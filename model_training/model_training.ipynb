{
 "cells": [
  {
   "cell_type": "markdown",
   "id": "9d4b1921",
   "metadata": {},
   "source": [
    "# Многоклассовая классификация с XGBoost + Optuna"
   ]
  },
  {
   "cell_type": "markdown",
   "id": "efe2bb56",
   "metadata": {},
   "source": [
    "**Цель:** Классификация типов трафика при помощи ML-модели.\n",
    "\n",
    "**Использованные алгоритмы:** XGBoost, Optuna.\n",
    "\n",
    "**Датасет:** Датасет состоит из 2830743 записей, 79 показателей трафика и 14 классов трафика (стандартный и 13 фродовых).\n",
    "\n",
    "**Источник данных:** \n",
    "\n",
    "https://www.kaggle.com/datasets/chethuhn/network-intrusion-dataset"
   ]
  },
  {
   "cell_type": "markdown",
   "id": "63917d4e",
   "metadata": {},
   "source": [
    "**Загрузка библиотек:**"
   ]
  },
  {
   "cell_type": "code",
   "execution_count": 1,
   "id": "5a3cbf0d",
   "metadata": {},
   "outputs": [],
   "source": [
    "import pandas as pd\n",
    "import numpy as np\n",
    "import matplotlib.pyplot as plt\n",
    "import seaborn as sns\n",
    "import shap\n",
    "import joblib\n",
    "\n",
    "from xgboost import XGBClassifier\n",
    "\n",
    "import optuna\n",
    "from optuna.visualization import plot_param_importances\n",
    "\n",
    "from sklearn.model_selection import train_test_split\n",
    "from sklearn.metrics import (confusion_matrix, \n",
    "                             classification_report,\n",
    "                             f1_score)\n",
    "from sklearn.preprocessing import LabelEncoder\n",
    "from sklearn.utils.class_weight import compute_class_weight\n",
    "from sklearn.utils import resample"
   ]
  },
  {
   "cell_type": "markdown",
   "id": "f3053658",
   "metadata": {},
   "source": [
    "**Загрузка датасета:**"
   ]
  },
  {
   "cell_type": "code",
   "execution_count": 2,
   "id": "443903ba",
   "metadata": {},
   "outputs": [
    {
     "data": {
      "application/vnd.microsoft.datawrangler.viewer.v0+json": {
       "columns": [
        {
         "name": "index",
         "rawType": "int64",
         "type": "integer"
        },
        {
         "name": " Destination Port",
         "rawType": "int64",
         "type": "integer"
        },
        {
         "name": " Flow Duration",
         "rawType": "int64",
         "type": "integer"
        },
        {
         "name": " Total Fwd Packets",
         "rawType": "int64",
         "type": "integer"
        },
        {
         "name": " Total Backward Packets",
         "rawType": "int64",
         "type": "integer"
        },
        {
         "name": "Total Length of Fwd Packets",
         "rawType": "int64",
         "type": "integer"
        },
        {
         "name": " Total Length of Bwd Packets",
         "rawType": "int64",
         "type": "integer"
        },
        {
         "name": " Fwd Packet Length Max",
         "rawType": "int64",
         "type": "integer"
        },
        {
         "name": " Fwd Packet Length Min",
         "rawType": "int64",
         "type": "integer"
        },
        {
         "name": " Fwd Packet Length Mean",
         "rawType": "float64",
         "type": "float"
        },
        {
         "name": " Fwd Packet Length Std",
         "rawType": "float64",
         "type": "float"
        },
        {
         "name": "Bwd Packet Length Max",
         "rawType": "int64",
         "type": "integer"
        },
        {
         "name": " Bwd Packet Length Min",
         "rawType": "int64",
         "type": "integer"
        },
        {
         "name": " Bwd Packet Length Mean",
         "rawType": "float64",
         "type": "float"
        },
        {
         "name": " Bwd Packet Length Std",
         "rawType": "float64",
         "type": "float"
        },
        {
         "name": "Flow Bytes/s",
         "rawType": "float64",
         "type": "float"
        },
        {
         "name": " Flow Packets/s",
         "rawType": "float64",
         "type": "float"
        },
        {
         "name": " Flow IAT Mean",
         "rawType": "float64",
         "type": "float"
        },
        {
         "name": " Flow IAT Std",
         "rawType": "float64",
         "type": "float"
        },
        {
         "name": " Flow IAT Max",
         "rawType": "int64",
         "type": "integer"
        },
        {
         "name": " Flow IAT Min",
         "rawType": "int64",
         "type": "integer"
        },
        {
         "name": "Fwd IAT Total",
         "rawType": "int64",
         "type": "integer"
        },
        {
         "name": " Fwd IAT Mean",
         "rawType": "float64",
         "type": "float"
        },
        {
         "name": " Fwd IAT Std",
         "rawType": "float64",
         "type": "float"
        },
        {
         "name": " Fwd IAT Max",
         "rawType": "int64",
         "type": "integer"
        },
        {
         "name": " Fwd IAT Min",
         "rawType": "int64",
         "type": "integer"
        },
        {
         "name": "Bwd IAT Total",
         "rawType": "int64",
         "type": "integer"
        },
        {
         "name": " Bwd IAT Mean",
         "rawType": "float64",
         "type": "float"
        },
        {
         "name": " Bwd IAT Std",
         "rawType": "float64",
         "type": "float"
        },
        {
         "name": " Bwd IAT Max",
         "rawType": "int64",
         "type": "integer"
        },
        {
         "name": " Bwd IAT Min",
         "rawType": "int64",
         "type": "integer"
        },
        {
         "name": "Fwd PSH Flags",
         "rawType": "int64",
         "type": "integer"
        },
        {
         "name": " Bwd PSH Flags",
         "rawType": "int64",
         "type": "integer"
        },
        {
         "name": " Fwd URG Flags",
         "rawType": "int64",
         "type": "integer"
        },
        {
         "name": " Bwd URG Flags",
         "rawType": "int64",
         "type": "integer"
        },
        {
         "name": " Fwd Header Length",
         "rawType": "int64",
         "type": "integer"
        },
        {
         "name": " Bwd Header Length",
         "rawType": "int64",
         "type": "integer"
        },
        {
         "name": "Fwd Packets/s",
         "rawType": "float64",
         "type": "float"
        },
        {
         "name": " Bwd Packets/s",
         "rawType": "float64",
         "type": "float"
        },
        {
         "name": " Min Packet Length",
         "rawType": "int64",
         "type": "integer"
        },
        {
         "name": " Max Packet Length",
         "rawType": "int64",
         "type": "integer"
        },
        {
         "name": " Packet Length Mean",
         "rawType": "float64",
         "type": "float"
        },
        {
         "name": " Packet Length Std",
         "rawType": "float64",
         "type": "float"
        },
        {
         "name": " Packet Length Variance",
         "rawType": "float64",
         "type": "float"
        },
        {
         "name": "FIN Flag Count",
         "rawType": "int64",
         "type": "integer"
        },
        {
         "name": " SYN Flag Count",
         "rawType": "int64",
         "type": "integer"
        },
        {
         "name": " RST Flag Count",
         "rawType": "int64",
         "type": "integer"
        },
        {
         "name": " PSH Flag Count",
         "rawType": "int64",
         "type": "integer"
        },
        {
         "name": " ACK Flag Count",
         "rawType": "int64",
         "type": "integer"
        },
        {
         "name": " URG Flag Count",
         "rawType": "int64",
         "type": "integer"
        },
        {
         "name": " CWE Flag Count",
         "rawType": "int64",
         "type": "integer"
        },
        {
         "name": " ECE Flag Count",
         "rawType": "int64",
         "type": "integer"
        },
        {
         "name": " Down/Up Ratio",
         "rawType": "int64",
         "type": "integer"
        },
        {
         "name": " Average Packet Size",
         "rawType": "float64",
         "type": "float"
        },
        {
         "name": " Avg Fwd Segment Size",
         "rawType": "float64",
         "type": "float"
        },
        {
         "name": " Avg Bwd Segment Size",
         "rawType": "float64",
         "type": "float"
        },
        {
         "name": " Fwd Header Length.1",
         "rawType": "int64",
         "type": "integer"
        },
        {
         "name": "Fwd Avg Bytes/Bulk",
         "rawType": "int64",
         "type": "integer"
        },
        {
         "name": " Fwd Avg Packets/Bulk",
         "rawType": "int64",
         "type": "integer"
        },
        {
         "name": " Fwd Avg Bulk Rate",
         "rawType": "int64",
         "type": "integer"
        },
        {
         "name": " Bwd Avg Bytes/Bulk",
         "rawType": "int64",
         "type": "integer"
        },
        {
         "name": " Bwd Avg Packets/Bulk",
         "rawType": "int64",
         "type": "integer"
        },
        {
         "name": "Bwd Avg Bulk Rate",
         "rawType": "int64",
         "type": "integer"
        },
        {
         "name": "Subflow Fwd Packets",
         "rawType": "int64",
         "type": "integer"
        },
        {
         "name": " Subflow Fwd Bytes",
         "rawType": "int64",
         "type": "integer"
        },
        {
         "name": " Subflow Bwd Packets",
         "rawType": "int64",
         "type": "integer"
        },
        {
         "name": " Subflow Bwd Bytes",
         "rawType": "int64",
         "type": "integer"
        },
        {
         "name": "Init_Win_bytes_forward",
         "rawType": "int64",
         "type": "integer"
        },
        {
         "name": " Init_Win_bytes_backward",
         "rawType": "int64",
         "type": "integer"
        },
        {
         "name": " act_data_pkt_fwd",
         "rawType": "int64",
         "type": "integer"
        },
        {
         "name": " min_seg_size_forward",
         "rawType": "int64",
         "type": "integer"
        },
        {
         "name": "Active Mean",
         "rawType": "float64",
         "type": "float"
        },
        {
         "name": " Active Std",
         "rawType": "float64",
         "type": "float"
        },
        {
         "name": " Active Max",
         "rawType": "int64",
         "type": "integer"
        },
        {
         "name": " Active Min",
         "rawType": "int64",
         "type": "integer"
        },
        {
         "name": "Idle Mean",
         "rawType": "float64",
         "type": "float"
        },
        {
         "name": " Idle Std",
         "rawType": "float64",
         "type": "float"
        },
        {
         "name": " Idle Max",
         "rawType": "int64",
         "type": "integer"
        },
        {
         "name": " Idle Min",
         "rawType": "int64",
         "type": "integer"
        },
        {
         "name": " Label",
         "rawType": "object",
         "type": "string"
        }
       ],
       "ref": "780f7629-bc27-4e6e-9ce5-08a320678e41",
       "rows": [
        [
         "239476",
         "53",
         "30657",
         "1",
         "1",
         "42",
         "58",
         "42",
         "42",
         "42.0",
         "0.0",
         "58",
         "58",
         "58.0",
         "0.0",
         "3261.8977721238",
         "65.2379554425",
         "30657.0",
         "0.0",
         "30657",
         "30657",
         "0",
         "0.0",
         "0.0",
         "0",
         "0",
         "0",
         "0.0",
         "0.0",
         "0",
         "0",
         "0",
         "0",
         "0",
         "0",
         "20",
         "32",
         "32.6189777212",
         "32.6189777212",
         "42",
         "58",
         "47.3333333333",
         "9.237604307",
         "85.3333333333",
         "0",
         "0",
         "0",
         "0",
         "0",
         "0",
         "0",
         "0",
         "1",
         "71.0",
         "42.0",
         "58.0",
         "20",
         "0",
         "0",
         "0",
         "0",
         "0",
         "0",
         "1",
         "42",
         "1",
         "58",
         "-1",
         "-1",
         "0",
         "20",
         "0.0",
         "0.0",
         "0",
         "0",
         "0.0",
         "0.0",
         "0",
         "0",
         "BENIGN"
        ],
        [
         "1875181",
         "53",
         "225",
         "2",
         "2",
         "68",
         "182",
         "34",
         "34",
         "34.0",
         "0.0",
         "91",
         "91",
         "91.0",
         "0.0",
         "1111111.111",
         "17777.77778",
         "75.0",
         "90.5704146",
         "176",
         "1",
         "1",
         "1.0",
         "0.0",
         "1",
         "1",
         "48",
         "48.0",
         "0.0",
         "48",
         "48",
         "0",
         "0",
         "0",
         "0",
         "64",
         "64",
         "8888.888889",
         "8888.888889",
         "34",
         "91",
         "56.8",
         "31.22018578",
         "974.7",
         "0",
         "0",
         "0",
         "0",
         "0",
         "0",
         "0",
         "0",
         "1",
         "71.0",
         "34.0",
         "91.0",
         "64",
         "0",
         "0",
         "0",
         "0",
         "0",
         "0",
         "2",
         "68",
         "2",
         "182",
         "-1",
         "-1",
         "1",
         "32",
         "0.0",
         "0.0",
         "0",
         "0",
         "0.0",
         "0.0",
         "0",
         "0",
         "BENIGN"
        ],
        [
         "708565",
         "53",
         "31942",
         "1",
         "1",
         "58",
         "139",
         "58",
         "58",
         "58.0",
         "0.0",
         "139",
         "139",
         "139.0",
         "0.0",
         "6167.428464",
         "62.61348695",
         "31942.0",
         "0.0",
         "31942",
         "31942",
         "0",
         "0.0",
         "0.0",
         "0",
         "0",
         "0",
         "0.0",
         "0.0",
         "0",
         "0",
         "0",
         "0",
         "0",
         "0",
         "32",
         "32",
         "31.30674347",
         "31.30674347",
         "58",
         "139",
         "85.0",
         "46.7653718",
         "2187.0",
         "0",
         "0",
         "0",
         "0",
         "0",
         "0",
         "0",
         "0",
         "1",
         "127.5",
         "58.0",
         "139.0",
         "32",
         "0",
         "0",
         "0",
         "0",
         "0",
         "0",
         "1",
         "58",
         "1",
         "139",
         "-1",
         "-1",
         "0",
         "32",
         "0.0",
         "0.0",
         "0",
         "0",
         "0.0",
         "0.0",
         "0",
         "0",
         "BENIGN"
        ],
        [
         "2334911",
         "443",
         "126789",
         "10",
         "5",
         "810",
         "463",
         "565",
         "0",
         "81.0",
         "176.3928696",
         "325",
         "0",
         "92.6",
         "142.9993007",
         "10040.30318",
         "118.3067932",
         "9056.357143",
         "15214.92097",
         "36255",
         "3",
         "126789",
         "14087.66667",
         "21008.34578",
         "51443",
         "3",
         "89592",
         "22398.0",
         "17656.11832",
         "36768",
         "582",
         "0",
         "0",
         "0",
         "0",
         "332",
         "168",
         "78.87119545",
         "39.43559773",
         "0",
         "565",
         "79.5625",
         "156.8493837",
         "24601.72917",
         "0",
         "0",
         "0",
         "1",
         "0",
         "0",
         "0",
         "0",
         "0",
         "84.86666667",
         "81.0",
         "92.6",
         "332",
         "0",
         "0",
         "0",
         "0",
         "0",
         "0",
         "10",
         "810",
         "5",
         "463",
         "65535",
         "349",
         "5",
         "32",
         "0.0",
         "0.0",
         "0",
         "0",
         "0.0",
         "0.0",
         "0",
         "0",
         "BENIGN"
        ],
        [
         "1970609",
         "443",
         "117325900",
         "14",
         "14",
         "913",
         "6527",
         "260",
         "0",
         "65.21428571",
         "85.75472947",
         "1573",
         "0",
         "466.2142857",
         "675.2982451",
         "63.41310827",
         "0.238651483",
         "4345403.704",
         "15600000.0",
         "58900000",
         "4",
         "117000000",
         "9025069.231",
         "22000000.0",
         "58900000",
         "58",
         "117000000",
         "9018710.846",
         "22000000.0",
         "59000000",
         "4",
         "0",
         "0",
         "0",
         "0",
         "292",
         "292",
         "0.119325741",
         "0.119325741",
         "0",
         "1573",
         "256.5517241",
         "507.7167789",
         "257776.3276",
         "0",
         "0",
         "0",
         "1",
         "0",
         "0",
         "0",
         "0",
         "1",
         "265.7142857",
         "65.21428571",
         "466.2142857",
         "292",
         "0",
         "0",
         "0",
         "0",
         "0",
         "0",
         "14",
         "913",
         "14",
         "6527",
         "8192",
         "64",
         "13",
         "20",
         "135246.0",
         "74253.28309",
         "187751",
         "82741",
         "58500000.0",
         "634698.3397",
         "58900000",
         "58000000",
         "BENIGN"
        ],
        [
         "2184653",
         "443",
         "126361",
         "2",
         "0",
         "12",
         "0",
         "6",
         "6",
         "6.0",
         "0.0",
         "0",
         "0",
         "0.0",
         "0.0",
         "94.96601008",
         "15.82766835",
         "126361.0",
         "0.0",
         "126361",
         "126361",
         "126361",
         "126361.0",
         "0.0",
         "126361",
         "126361",
         "0",
         "0.0",
         "0.0",
         "0",
         "0",
         "0",
         "0",
         "0",
         "0",
         "40",
         "0",
         "15.82766835",
         "0.0",
         "6",
         "6",
         "6.0",
         "0.0",
         "0.0",
         "0",
         "0",
         "0",
         "0",
         "1",
         "0",
         "0",
         "0",
         "0",
         "9.0",
         "6.0",
         "0.0",
         "40",
         "0",
         "0",
         "0",
         "0",
         "0",
         "0",
         "2",
         "12",
         "0",
         "0",
         "255",
         "-1",
         "1",
         "20",
         "0.0",
         "0.0",
         "0",
         "0",
         "0.0",
         "0.0",
         "0",
         "0",
         "BENIGN"
        ],
        [
         "2702265",
         "80",
         "80706107",
         "8",
         "6",
         "56",
         "11607",
         "20",
         "0",
         "7.0",
         "5.656854249",
         "5840",
         "0",
         "1934.5",
         "2538.919278",
         "144.5119884",
         "0.173468905",
         "6208162.077",
         "20000000.0",
         "72400000",
         "2",
         "80600000",
         "11500000.0",
         "27000000.0",
         "72400000",
         "49",
         "113686",
         "22737.2",
         "50243.19994",
         "112612",
         "2",
         "0",
         "0",
         "0",
         "0",
         "172",
         "132",
         "0.099125089",
         "0.074343816",
         "0",
         "5840",
         "777.9333333",
         "1804.898987",
         "3257660.352",
         "0",
         "0",
         "0",
         "0",
         "1",
         "0",
         "0",
         "0",
         "0",
         "833.5",
         "7.0",
         "1934.5",
         "172",
         "0",
         "0",
         "0",
         "0",
         "0",
         "0",
         "8",
         "56",
         "6",
         "11607",
         "256",
         "229",
         "6",
         "20",
         "849.0",
         "0.0",
         "849",
         "849",
         "40300000.0",
         "45400000.0",
         "72400000",
         "8164110",
         "DDoS"
        ],
        [
         "2825343",
         "8080",
         "8720037",
         "3",
         "0",
         "0",
         "0",
         "0",
         "0",
         "0.0",
         "0.0",
         "0",
         "0",
         "0.0",
         "0.0",
         "0.0",
         "0.344035237",
         "4360018.5",
         "1923280.24",
         "5719983",
         "3000054",
         "8720037",
         "4360018.5",
         "1923280.24",
         "5719983",
         "3000054",
         "0",
         "0.0",
         "0.0",
         "0",
         "0",
         "0",
         "0",
         "0",
         "0",
         "92",
         "0",
         "0.344035237",
         "0.0",
         "0",
         "0",
         "0.0",
         "0.0",
         "0.0",
         "0",
         "0",
         "0",
         "1",
         "0",
         "0",
         "0",
         "0",
         "0",
         "0.0",
         "0.0",
         "0.0",
         "92",
         "0",
         "0",
         "0",
         "0",
         "0",
         "0",
         "3",
         "0",
         "0",
         "0",
         "8192",
         "-1",
         "0",
         "28",
         "3000054.0",
         "0.0",
         "3000054",
         "3000054",
         "5719983.0",
         "0.0",
         "5719983",
         "5719983",
         "BENIGN"
        ],
        [
         "2039709",
         "53",
         "230",
         "2",
         "2",
         "64",
         "148",
         "32",
         "32",
         "32.0",
         "0.0",
         "74",
         "74",
         "74.0",
         "0.0",
         "921739.1304",
         "17391.30435",
         "76.66666667",
         "48.80915215",
         "133",
         "47",
         "47",
         "47.0",
         "0.0",
         "47",
         "47",
         "50",
         "50.0",
         "0.0",
         "50",
         "50",
         "0",
         "0",
         "0",
         "0",
         "80",
         "80",
         "8695.652174",
         "8695.652174",
         "32",
         "74",
         "48.8",
         "23.00434742",
         "529.2",
         "0",
         "0",
         "0",
         "0",
         "0",
         "0",
         "0",
         "0",
         "1",
         "61.0",
         "32.0",
         "74.0",
         "80",
         "0",
         "0",
         "0",
         "0",
         "0",
         "0",
         "2",
         "64",
         "2",
         "148",
         "-1",
         "-1",
         "1",
         "40",
         "0.0",
         "0.0",
         "0",
         "0",
         "0.0",
         "0.0",
         "0",
         "0",
         "BENIGN"
        ],
        [
         "2553468",
         "443",
         "116662852",
         "24",
         "21",
         "1622",
         "8169",
         "1232",
         "0",
         "67.58333333",
         "253.1727227",
         "1418",
         "0",
         "389.0",
         "607.6765587",
         "83.92560127",
         "0.385726898",
         "2651428.455",
         "4370672.822",
         "10000000",
         "3",
         "117000000",
         "5072297.913",
         "4985439.399",
         "10100000",
         "3",
         "111000000",
         "5566750.45",
         "5084467.374",
         "10100000",
         "48",
         "0",
         "0",
         "0",
         "0",
         "776",
         "680",
         "0.205721012",
         "0.180005886",
         "0",
         "1418",
         "212.8478261",
         "472.8871591",
         "223622.2652",
         "0",
         "0",
         "0",
         "1",
         "0",
         "0",
         "0",
         "0",
         "0",
         "217.5777778",
         "67.58333333",
         "389.0",
         "776",
         "0",
         "0",
         "0",
         "0",
         "0",
         "0",
         "24",
         "1622",
         "21",
         "8169",
         "29200",
         "370",
         "4",
         "32",
         "103809.0",
         "231974.8567",
         "840428",
         "36678",
         "9618095.083",
         "1362668.0",
         "10000000",
         "5291087",
         "BENIGN"
        ]
       ],
       "shape": {
        "columns": 79,
        "rows": 10
       }
      },
      "text/html": [
       "<div>\n",
       "<style scoped>\n",
       "    .dataframe tbody tr th:only-of-type {\n",
       "        vertical-align: middle;\n",
       "    }\n",
       "\n",
       "    .dataframe tbody tr th {\n",
       "        vertical-align: top;\n",
       "    }\n",
       "\n",
       "    .dataframe thead th {\n",
       "        text-align: right;\n",
       "    }\n",
       "</style>\n",
       "<table border=\"1\" class=\"dataframe\">\n",
       "  <thead>\n",
       "    <tr style=\"text-align: right;\">\n",
       "      <th></th>\n",
       "      <th>Destination Port</th>\n",
       "      <th>Flow Duration</th>\n",
       "      <th>Total Fwd Packets</th>\n",
       "      <th>Total Backward Packets</th>\n",
       "      <th>Total Length of Fwd Packets</th>\n",
       "      <th>Total Length of Bwd Packets</th>\n",
       "      <th>Fwd Packet Length Max</th>\n",
       "      <th>Fwd Packet Length Min</th>\n",
       "      <th>Fwd Packet Length Mean</th>\n",
       "      <th>Fwd Packet Length Std</th>\n",
       "      <th>...</th>\n",
       "      <th>min_seg_size_forward</th>\n",
       "      <th>Active Mean</th>\n",
       "      <th>Active Std</th>\n",
       "      <th>Active Max</th>\n",
       "      <th>Active Min</th>\n",
       "      <th>Idle Mean</th>\n",
       "      <th>Idle Std</th>\n",
       "      <th>Idle Max</th>\n",
       "      <th>Idle Min</th>\n",
       "      <th>Label</th>\n",
       "    </tr>\n",
       "  </thead>\n",
       "  <tbody>\n",
       "    <tr>\n",
       "      <th>239476</th>\n",
       "      <td>53</td>\n",
       "      <td>30657</td>\n",
       "      <td>1</td>\n",
       "      <td>1</td>\n",
       "      <td>42</td>\n",
       "      <td>58</td>\n",
       "      <td>42</td>\n",
       "      <td>42</td>\n",
       "      <td>42.000000</td>\n",
       "      <td>0.000000</td>\n",
       "      <td>...</td>\n",
       "      <td>20</td>\n",
       "      <td>0.0</td>\n",
       "      <td>0.00000</td>\n",
       "      <td>0</td>\n",
       "      <td>0</td>\n",
       "      <td>0.000000e+00</td>\n",
       "      <td>0.000000e+00</td>\n",
       "      <td>0</td>\n",
       "      <td>0</td>\n",
       "      <td>BENIGN</td>\n",
       "    </tr>\n",
       "    <tr>\n",
       "      <th>1875181</th>\n",
       "      <td>53</td>\n",
       "      <td>225</td>\n",
       "      <td>2</td>\n",
       "      <td>2</td>\n",
       "      <td>68</td>\n",
       "      <td>182</td>\n",
       "      <td>34</td>\n",
       "      <td>34</td>\n",
       "      <td>34.000000</td>\n",
       "      <td>0.000000</td>\n",
       "      <td>...</td>\n",
       "      <td>32</td>\n",
       "      <td>0.0</td>\n",
       "      <td>0.00000</td>\n",
       "      <td>0</td>\n",
       "      <td>0</td>\n",
       "      <td>0.000000e+00</td>\n",
       "      <td>0.000000e+00</td>\n",
       "      <td>0</td>\n",
       "      <td>0</td>\n",
       "      <td>BENIGN</td>\n",
       "    </tr>\n",
       "    <tr>\n",
       "      <th>708565</th>\n",
       "      <td>53</td>\n",
       "      <td>31942</td>\n",
       "      <td>1</td>\n",
       "      <td>1</td>\n",
       "      <td>58</td>\n",
       "      <td>139</td>\n",
       "      <td>58</td>\n",
       "      <td>58</td>\n",
       "      <td>58.000000</td>\n",
       "      <td>0.000000</td>\n",
       "      <td>...</td>\n",
       "      <td>32</td>\n",
       "      <td>0.0</td>\n",
       "      <td>0.00000</td>\n",
       "      <td>0</td>\n",
       "      <td>0</td>\n",
       "      <td>0.000000e+00</td>\n",
       "      <td>0.000000e+00</td>\n",
       "      <td>0</td>\n",
       "      <td>0</td>\n",
       "      <td>BENIGN</td>\n",
       "    </tr>\n",
       "    <tr>\n",
       "      <th>2334911</th>\n",
       "      <td>443</td>\n",
       "      <td>126789</td>\n",
       "      <td>10</td>\n",
       "      <td>5</td>\n",
       "      <td>810</td>\n",
       "      <td>463</td>\n",
       "      <td>565</td>\n",
       "      <td>0</td>\n",
       "      <td>81.000000</td>\n",
       "      <td>176.392870</td>\n",
       "      <td>...</td>\n",
       "      <td>32</td>\n",
       "      <td>0.0</td>\n",
       "      <td>0.00000</td>\n",
       "      <td>0</td>\n",
       "      <td>0</td>\n",
       "      <td>0.000000e+00</td>\n",
       "      <td>0.000000e+00</td>\n",
       "      <td>0</td>\n",
       "      <td>0</td>\n",
       "      <td>BENIGN</td>\n",
       "    </tr>\n",
       "    <tr>\n",
       "      <th>1970609</th>\n",
       "      <td>443</td>\n",
       "      <td>117325900</td>\n",
       "      <td>14</td>\n",
       "      <td>14</td>\n",
       "      <td>913</td>\n",
       "      <td>6527</td>\n",
       "      <td>260</td>\n",
       "      <td>0</td>\n",
       "      <td>65.214286</td>\n",
       "      <td>85.754729</td>\n",
       "      <td>...</td>\n",
       "      <td>20</td>\n",
       "      <td>135246.0</td>\n",
       "      <td>74253.28309</td>\n",
       "      <td>187751</td>\n",
       "      <td>82741</td>\n",
       "      <td>5.850000e+07</td>\n",
       "      <td>6.346983e+05</td>\n",
       "      <td>58900000</td>\n",
       "      <td>58000000</td>\n",
       "      <td>BENIGN</td>\n",
       "    </tr>\n",
       "    <tr>\n",
       "      <th>2184653</th>\n",
       "      <td>443</td>\n",
       "      <td>126361</td>\n",
       "      <td>2</td>\n",
       "      <td>0</td>\n",
       "      <td>12</td>\n",
       "      <td>0</td>\n",
       "      <td>6</td>\n",
       "      <td>6</td>\n",
       "      <td>6.000000</td>\n",
       "      <td>0.000000</td>\n",
       "      <td>...</td>\n",
       "      <td>20</td>\n",
       "      <td>0.0</td>\n",
       "      <td>0.00000</td>\n",
       "      <td>0</td>\n",
       "      <td>0</td>\n",
       "      <td>0.000000e+00</td>\n",
       "      <td>0.000000e+00</td>\n",
       "      <td>0</td>\n",
       "      <td>0</td>\n",
       "      <td>BENIGN</td>\n",
       "    </tr>\n",
       "    <tr>\n",
       "      <th>2702265</th>\n",
       "      <td>80</td>\n",
       "      <td>80706107</td>\n",
       "      <td>8</td>\n",
       "      <td>6</td>\n",
       "      <td>56</td>\n",
       "      <td>11607</td>\n",
       "      <td>20</td>\n",
       "      <td>0</td>\n",
       "      <td>7.000000</td>\n",
       "      <td>5.656854</td>\n",
       "      <td>...</td>\n",
       "      <td>20</td>\n",
       "      <td>849.0</td>\n",
       "      <td>0.00000</td>\n",
       "      <td>849</td>\n",
       "      <td>849</td>\n",
       "      <td>4.030000e+07</td>\n",
       "      <td>4.540000e+07</td>\n",
       "      <td>72400000</td>\n",
       "      <td>8164110</td>\n",
       "      <td>DDoS</td>\n",
       "    </tr>\n",
       "    <tr>\n",
       "      <th>2825343</th>\n",
       "      <td>8080</td>\n",
       "      <td>8720037</td>\n",
       "      <td>3</td>\n",
       "      <td>0</td>\n",
       "      <td>0</td>\n",
       "      <td>0</td>\n",
       "      <td>0</td>\n",
       "      <td>0</td>\n",
       "      <td>0.000000</td>\n",
       "      <td>0.000000</td>\n",
       "      <td>...</td>\n",
       "      <td>28</td>\n",
       "      <td>3000054.0</td>\n",
       "      <td>0.00000</td>\n",
       "      <td>3000054</td>\n",
       "      <td>3000054</td>\n",
       "      <td>5.719983e+06</td>\n",
       "      <td>0.000000e+00</td>\n",
       "      <td>5719983</td>\n",
       "      <td>5719983</td>\n",
       "      <td>BENIGN</td>\n",
       "    </tr>\n",
       "    <tr>\n",
       "      <th>2039709</th>\n",
       "      <td>53</td>\n",
       "      <td>230</td>\n",
       "      <td>2</td>\n",
       "      <td>2</td>\n",
       "      <td>64</td>\n",
       "      <td>148</td>\n",
       "      <td>32</td>\n",
       "      <td>32</td>\n",
       "      <td>32.000000</td>\n",
       "      <td>0.000000</td>\n",
       "      <td>...</td>\n",
       "      <td>40</td>\n",
       "      <td>0.0</td>\n",
       "      <td>0.00000</td>\n",
       "      <td>0</td>\n",
       "      <td>0</td>\n",
       "      <td>0.000000e+00</td>\n",
       "      <td>0.000000e+00</td>\n",
       "      <td>0</td>\n",
       "      <td>0</td>\n",
       "      <td>BENIGN</td>\n",
       "    </tr>\n",
       "    <tr>\n",
       "      <th>2553468</th>\n",
       "      <td>443</td>\n",
       "      <td>116662852</td>\n",
       "      <td>24</td>\n",
       "      <td>21</td>\n",
       "      <td>1622</td>\n",
       "      <td>8169</td>\n",
       "      <td>1232</td>\n",
       "      <td>0</td>\n",
       "      <td>67.583333</td>\n",
       "      <td>253.172723</td>\n",
       "      <td>...</td>\n",
       "      <td>32</td>\n",
       "      <td>103809.0</td>\n",
       "      <td>231974.85670</td>\n",
       "      <td>840428</td>\n",
       "      <td>36678</td>\n",
       "      <td>9.618095e+06</td>\n",
       "      <td>1.362668e+06</td>\n",
       "      <td>10000000</td>\n",
       "      <td>5291087</td>\n",
       "      <td>BENIGN</td>\n",
       "    </tr>\n",
       "  </tbody>\n",
       "</table>\n",
       "<p>10 rows × 79 columns</p>\n",
       "</div>"
      ],
      "text/plain": [
       "          Destination Port   Flow Duration   Total Fwd Packets  \\\n",
       "239476                  53           30657                   1   \n",
       "1875181                 53             225                   2   \n",
       "708565                  53           31942                   1   \n",
       "2334911                443          126789                  10   \n",
       "1970609                443       117325900                  14   \n",
       "2184653                443          126361                   2   \n",
       "2702265                 80        80706107                   8   \n",
       "2825343               8080         8720037                   3   \n",
       "2039709                 53             230                   2   \n",
       "2553468                443       116662852                  24   \n",
       "\n",
       "          Total Backward Packets  Total Length of Fwd Packets  \\\n",
       "239476                         1                           42   \n",
       "1875181                        2                           68   \n",
       "708565                         1                           58   \n",
       "2334911                        5                          810   \n",
       "1970609                       14                          913   \n",
       "2184653                        0                           12   \n",
       "2702265                        6                           56   \n",
       "2825343                        0                            0   \n",
       "2039709                        2                           64   \n",
       "2553468                       21                         1622   \n",
       "\n",
       "          Total Length of Bwd Packets   Fwd Packet Length Max  \\\n",
       "239476                             58                      42   \n",
       "1875181                           182                      34   \n",
       "708565                            139                      58   \n",
       "2334911                           463                     565   \n",
       "1970609                          6527                     260   \n",
       "2184653                             0                       6   \n",
       "2702265                         11607                      20   \n",
       "2825343                             0                       0   \n",
       "2039709                           148                      32   \n",
       "2553468                          8169                    1232   \n",
       "\n",
       "          Fwd Packet Length Min   Fwd Packet Length Mean  \\\n",
       "239476                       42                42.000000   \n",
       "1875181                      34                34.000000   \n",
       "708565                       58                58.000000   \n",
       "2334911                       0                81.000000   \n",
       "1970609                       0                65.214286   \n",
       "2184653                       6                 6.000000   \n",
       "2702265                       0                 7.000000   \n",
       "2825343                       0                 0.000000   \n",
       "2039709                      32                32.000000   \n",
       "2553468                       0                67.583333   \n",
       "\n",
       "          Fwd Packet Length Std  ...   min_seg_size_forward  Active Mean  \\\n",
       "239476                 0.000000  ...                     20          0.0   \n",
       "1875181                0.000000  ...                     32          0.0   \n",
       "708565                 0.000000  ...                     32          0.0   \n",
       "2334911              176.392870  ...                     32          0.0   \n",
       "1970609               85.754729  ...                     20     135246.0   \n",
       "2184653                0.000000  ...                     20          0.0   \n",
       "2702265                5.656854  ...                     20        849.0   \n",
       "2825343                0.000000  ...                     28    3000054.0   \n",
       "2039709                0.000000  ...                     40          0.0   \n",
       "2553468              253.172723  ...                     32     103809.0   \n",
       "\n",
       "           Active Std   Active Max   Active Min     Idle Mean      Idle Std  \\\n",
       "239476        0.00000            0            0  0.000000e+00  0.000000e+00   \n",
       "1875181       0.00000            0            0  0.000000e+00  0.000000e+00   \n",
       "708565        0.00000            0            0  0.000000e+00  0.000000e+00   \n",
       "2334911       0.00000            0            0  0.000000e+00  0.000000e+00   \n",
       "1970609   74253.28309       187751        82741  5.850000e+07  6.346983e+05   \n",
       "2184653       0.00000            0            0  0.000000e+00  0.000000e+00   \n",
       "2702265       0.00000          849          849  4.030000e+07  4.540000e+07   \n",
       "2825343       0.00000      3000054      3000054  5.719983e+06  0.000000e+00   \n",
       "2039709       0.00000            0            0  0.000000e+00  0.000000e+00   \n",
       "2553468  231974.85670       840428        36678  9.618095e+06  1.362668e+06   \n",
       "\n",
       "          Idle Max   Idle Min   Label  \n",
       "239476           0          0  BENIGN  \n",
       "1875181          0          0  BENIGN  \n",
       "708565           0          0  BENIGN  \n",
       "2334911          0          0  BENIGN  \n",
       "1970609   58900000   58000000  BENIGN  \n",
       "2184653          0          0  BENIGN  \n",
       "2702265   72400000    8164110    DDoS  \n",
       "2825343    5719983    5719983  BENIGN  \n",
       "2039709          0          0  BENIGN  \n",
       "2553468   10000000    5291087  BENIGN  \n",
       "\n",
       "[10 rows x 79 columns]"
      ]
     },
     "execution_count": 2,
     "metadata": {},
     "output_type": "execute_result"
    }
   ],
   "source": [
    "df = pd.read_csv('CIC-IDS2017.csv')\n",
    "\n",
    "df.sample(10)"
   ]
  },
  {
   "cell_type": "markdown",
   "id": "01659186",
   "metadata": {},
   "source": [
    "# Предобработка данных"
   ]
  },
  {
   "cell_type": "markdown",
   "id": "3db633ae",
   "metadata": {},
   "source": [
    "**Размер датасета до очистки:**"
   ]
  },
  {
   "cell_type": "code",
   "execution_count": 3,
   "id": "b8c2300b",
   "metadata": {},
   "outputs": [
    {
     "data": {
      "text/plain": [
       "(2830743, 79)"
      ]
     },
     "execution_count": 3,
     "metadata": {},
     "output_type": "execute_result"
    }
   ],
   "source": [
    "df.shape"
   ]
  },
  {
   "cell_type": "markdown",
   "id": "b593314a",
   "metadata": {},
   "source": [
    "**Замена бесконечных значений на NaN-значения:**"
   ]
  },
  {
   "cell_type": "code",
   "execution_count": 4,
   "id": "a0b70bb8",
   "metadata": {},
   "outputs": [],
   "source": [
    "df.replace([np.inf, -np.inf], np.nan, inplace=True)"
   ]
  },
  {
   "cell_type": "markdown",
   "id": "37b2f4ba",
   "metadata": {},
   "source": [
    "**Удаление NaN-значений и дупликатов:**"
   ]
  },
  {
   "cell_type": "code",
   "execution_count": 5,
   "id": "20ae5de4",
   "metadata": {},
   "outputs": [
    {
     "data": {
      "text/plain": [
       "(2520798, 79)"
      ]
     },
     "execution_count": 5,
     "metadata": {},
     "output_type": "execute_result"
    }
   ],
   "source": [
    "df.dropna(inplace = True)\n",
    "df.drop_duplicates(inplace = True)\n",
    "df.shape"
   ]
  },
  {
   "cell_type": "markdown",
   "id": "23484b7c",
   "metadata": {},
   "source": [
    "**Удаление пробелов в начале названий столбцов:**"
   ]
  },
  {
   "cell_type": "code",
   "execution_count": 6,
   "id": "5440b14d",
   "metadata": {},
   "outputs": [],
   "source": [
    "df.columns = df.columns.str.strip()"
   ]
  },
  {
   "cell_type": "code",
   "execution_count": 7,
   "id": "b6ae8e8e",
   "metadata": {},
   "outputs": [
    {
     "data": {
      "text/plain": [
       "Index(['Destination Port', 'Flow Duration', 'Total Fwd Packets',\n",
       "       'Total Backward Packets', 'Total Length of Fwd Packets',\n",
       "       'Total Length of Bwd Packets', 'Fwd Packet Length Max',\n",
       "       'Fwd Packet Length Min', 'Fwd Packet Length Mean',\n",
       "       'Fwd Packet Length Std', 'Bwd Packet Length Max',\n",
       "       'Bwd Packet Length Min', 'Bwd Packet Length Mean',\n",
       "       'Bwd Packet Length Std', 'Flow Bytes/s', 'Flow Packets/s',\n",
       "       'Flow IAT Mean', 'Flow IAT Std', 'Flow IAT Max', 'Flow IAT Min',\n",
       "       'Fwd IAT Total', 'Fwd IAT Mean', 'Fwd IAT Std', 'Fwd IAT Max',\n",
       "       'Fwd IAT Min', 'Bwd IAT Total', 'Bwd IAT Mean', 'Bwd IAT Std',\n",
       "       'Bwd IAT Max', 'Bwd IAT Min', 'Fwd PSH Flags', 'Bwd PSH Flags',\n",
       "       'Fwd URG Flags', 'Bwd URG Flags', 'Fwd Header Length',\n",
       "       'Bwd Header Length', 'Fwd Packets/s', 'Bwd Packets/s',\n",
       "       'Min Packet Length', 'Max Packet Length', 'Packet Length Mean',\n",
       "       'Packet Length Std', 'Packet Length Variance', 'FIN Flag Count',\n",
       "       'SYN Flag Count', 'RST Flag Count', 'PSH Flag Count', 'ACK Flag Count',\n",
       "       'URG Flag Count', 'CWE Flag Count', 'ECE Flag Count', 'Down/Up Ratio',\n",
       "       'Average Packet Size', 'Avg Fwd Segment Size', 'Avg Bwd Segment Size',\n",
       "       'Fwd Header Length.1', 'Fwd Avg Bytes/Bulk', 'Fwd Avg Packets/Bulk',\n",
       "       'Fwd Avg Bulk Rate', 'Bwd Avg Bytes/Bulk', 'Bwd Avg Packets/Bulk',\n",
       "       'Bwd Avg Bulk Rate', 'Subflow Fwd Packets', 'Subflow Fwd Bytes',\n",
       "       'Subflow Bwd Packets', 'Subflow Bwd Bytes', 'Init_Win_bytes_forward',\n",
       "       'Init_Win_bytes_backward', 'act_data_pkt_fwd', 'min_seg_size_forward',\n",
       "       'Active Mean', 'Active Std', 'Active Max', 'Active Min', 'Idle Mean',\n",
       "       'Idle Std', 'Idle Max', 'Idle Min', 'Label'],\n",
       "      dtype='object')"
      ]
     },
     "execution_count": 7,
     "metadata": {},
     "output_type": "execute_result"
    }
   ],
   "source": [
    "df.columns"
   ]
  },
  {
   "cell_type": "markdown",
   "id": "72334008",
   "metadata": {},
   "source": [
    "**Типы данных переменных:**"
   ]
  },
  {
   "cell_type": "code",
   "execution_count": 8,
   "id": "cf92529a",
   "metadata": {},
   "outputs": [
    {
     "name": "stdout",
     "output_type": "stream",
     "text": [
      "<class 'pandas.core.frame.DataFrame'>\n",
      "Index: 2520798 entries, 0 to 2830742\n",
      "Data columns (total 79 columns):\n",
      " #   Column                       Dtype  \n",
      "---  ------                       -----  \n",
      " 0   Destination Port             int64  \n",
      " 1   Flow Duration                int64  \n",
      " 2   Total Fwd Packets            int64  \n",
      " 3   Total Backward Packets       int64  \n",
      " 4   Total Length of Fwd Packets  int64  \n",
      " 5   Total Length of Bwd Packets  int64  \n",
      " 6   Fwd Packet Length Max        int64  \n",
      " 7   Fwd Packet Length Min        int64  \n",
      " 8   Fwd Packet Length Mean       float64\n",
      " 9   Fwd Packet Length Std        float64\n",
      " 10  Bwd Packet Length Max        int64  \n",
      " 11  Bwd Packet Length Min        int64  \n",
      " 12  Bwd Packet Length Mean       float64\n",
      " 13  Bwd Packet Length Std        float64\n",
      " 14  Flow Bytes/s                 float64\n",
      " 15  Flow Packets/s               float64\n",
      " 16  Flow IAT Mean                float64\n",
      " 17  Flow IAT Std                 float64\n",
      " 18  Flow IAT Max                 int64  \n",
      " 19  Flow IAT Min                 int64  \n",
      " 20  Fwd IAT Total                int64  \n",
      " 21  Fwd IAT Mean                 float64\n",
      " 22  Fwd IAT Std                  float64\n",
      " 23  Fwd IAT Max                  int64  \n",
      " 24  Fwd IAT Min                  int64  \n",
      " 25  Bwd IAT Total                int64  \n",
      " 26  Bwd IAT Mean                 float64\n",
      " 27  Bwd IAT Std                  float64\n",
      " 28  Bwd IAT Max                  int64  \n",
      " 29  Bwd IAT Min                  int64  \n",
      " 30  Fwd PSH Flags                int64  \n",
      " 31  Bwd PSH Flags                int64  \n",
      " 32  Fwd URG Flags                int64  \n",
      " 33  Bwd URG Flags                int64  \n",
      " 34  Fwd Header Length            int64  \n",
      " 35  Bwd Header Length            int64  \n",
      " 36  Fwd Packets/s                float64\n",
      " 37  Bwd Packets/s                float64\n",
      " 38  Min Packet Length            int64  \n",
      " 39  Max Packet Length            int64  \n",
      " 40  Packet Length Mean           float64\n",
      " 41  Packet Length Std            float64\n",
      " 42  Packet Length Variance       float64\n",
      " 43  FIN Flag Count               int64  \n",
      " 44  SYN Flag Count               int64  \n",
      " 45  RST Flag Count               int64  \n",
      " 46  PSH Flag Count               int64  \n",
      " 47  ACK Flag Count               int64  \n",
      " 48  URG Flag Count               int64  \n",
      " 49  CWE Flag Count               int64  \n",
      " 50  ECE Flag Count               int64  \n",
      " 51  Down/Up Ratio                int64  \n",
      " 52  Average Packet Size          float64\n",
      " 53  Avg Fwd Segment Size         float64\n",
      " 54  Avg Bwd Segment Size         float64\n",
      " 55  Fwd Header Length.1          int64  \n",
      " 56  Fwd Avg Bytes/Bulk           int64  \n",
      " 57  Fwd Avg Packets/Bulk         int64  \n",
      " 58  Fwd Avg Bulk Rate            int64  \n",
      " 59  Bwd Avg Bytes/Bulk           int64  \n",
      " 60  Bwd Avg Packets/Bulk         int64  \n",
      " 61  Bwd Avg Bulk Rate            int64  \n",
      " 62  Subflow Fwd Packets          int64  \n",
      " 63  Subflow Fwd Bytes            int64  \n",
      " 64  Subflow Bwd Packets          int64  \n",
      " 65  Subflow Bwd Bytes            int64  \n",
      " 66  Init_Win_bytes_forward       int64  \n",
      " 67  Init_Win_bytes_backward      int64  \n",
      " 68  act_data_pkt_fwd             int64  \n",
      " 69  min_seg_size_forward         int64  \n",
      " 70  Active Mean                  float64\n",
      " 71  Active Std                   float64\n",
      " 72  Active Max                   int64  \n",
      " 73  Active Min                   int64  \n",
      " 74  Idle Mean                    float64\n",
      " 75  Idle Std                     float64\n",
      " 76  Idle Max                     int64  \n",
      " 77  Idle Min                     int64  \n",
      " 78  Label                        object \n",
      "dtypes: float64(24), int64(54), object(1)\n",
      "memory usage: 1.5+ GB\n"
     ]
    }
   ],
   "source": [
    "df.info()"
   ]
  },
  {
   "cell_type": "markdown",
   "id": "0a606163",
   "metadata": {},
   "source": [
    "**Количество записей с каждым лейблом:**"
   ]
  },
  {
   "cell_type": "code",
   "execution_count": 9,
   "id": "db4faa46",
   "metadata": {},
   "outputs": [
    {
     "data": {
      "application/vnd.microsoft.datawrangler.viewer.v0+json": {
       "columns": [
        {
         "name": "Label",
         "rawType": "object",
         "type": "string"
        },
        {
         "name": "count",
         "rawType": "int64",
         "type": "integer"
        }
       ],
       "ref": "9fc0089b-1fe8-4953-a5fd-c56526b5a7c9",
       "rows": [
        [
         "BENIGN",
         "2095057"
        ],
        [
         "DoS Hulk",
         "172846"
        ],
        [
         "DDoS",
         "128014"
        ],
        [
         "PortScan",
         "90694"
        ],
        [
         "DoS GoldenEye",
         "10286"
        ],
        [
         "FTP-Patator",
         "5931"
        ],
        [
         "DoS slowloris",
         "5385"
        ],
        [
         "DoS Slowhttptest",
         "5228"
        ],
        [
         "SSH-Patator",
         "3219"
        ],
        [
         "Bot",
         "1948"
        ],
        [
         "Web Attack � Brute Force",
         "1470"
        ],
        [
         "Web Attack � XSS",
         "652"
        ],
        [
         "Infiltration",
         "36"
        ],
        [
         "Web Attack � Sql Injection",
         "21"
        ],
        [
         "Heartbleed",
         "11"
        ]
       ],
       "shape": {
        "columns": 1,
        "rows": 15
       }
      },
      "text/plain": [
       "Label\n",
       "BENIGN                        2095057\n",
       "DoS Hulk                       172846\n",
       "DDoS                           128014\n",
       "PortScan                        90694\n",
       "DoS GoldenEye                   10286\n",
       "FTP-Patator                      5931\n",
       "DoS slowloris                    5385\n",
       "DoS Slowhttptest                 5228\n",
       "SSH-Patator                      3219\n",
       "Bot                              1948\n",
       "Web Attack � Brute Force         1470\n",
       "Web Attack � XSS                  652\n",
       "Infiltration                       36\n",
       "Web Attack � Sql Injection         21\n",
       "Heartbleed                         11\n",
       "Name: count, dtype: int64"
      ]
     },
     "execution_count": 9,
     "metadata": {},
     "output_type": "execute_result"
    }
   ],
   "source": [
    "df['Label'].value_counts()"
   ]
  },
  {
   "cell_type": "code",
   "execution_count": 10,
   "id": "aedfb6bc",
   "metadata": {},
   "outputs": [],
   "source": [
    "df['Label'] = df['Label'].str.replace('�', '-', regex=False)"
   ]
  },
  {
   "cell_type": "markdown",
   "id": "deea7d3a",
   "metadata": {},
   "source": [
    "**Кодирование и группировка значений y-переменной:**"
   ]
  },
  {
   "cell_type": "code",
   "execution_count": 11,
   "id": "afc4b5c0",
   "metadata": {},
   "outputs": [],
   "source": [
    "def prepare_labels(df, drop_classes=['Rare']):\n",
    "    original_labels = df['Label']\n",
    "    mapping = {'BENIGN': 'Normal',\n",
    "               'Bot': 'Bot',\n",
    "               'DDoS': 'DoS',\n",
    "               'DoS slowloris': 'DoS',\n",
    "               'DoS Slowhttptest': 'DoS',\n",
    "               'DoS Hulk': 'DoS',\n",
    "               'DoS GoldenEye': 'DoS',\n",
    "               'FTP-Patator': 'BruteForce',\n",
    "               'SSH-Patator': 'BruteForce',\n",
    "               'Heartbleed': 'Rare',\n",
    "               'Infiltration': 'Rare',\n",
    "               'PortScan': 'Recon',\n",
    "               'Web Attack - Brute Force': 'Web',\n",
    "               'Web Attack - XSS': 'Web',\n",
    "               'Web Attack - Sql Injection': 'Web'}\n",
    "\n",
    "    grouped_labels = original_labels.map(mapping)\n",
    "    valid_mask = grouped_labels.notna()\n",
    "    grouped_labels = grouped_labels[valid_mask].reset_index(drop=True)\n",
    "    df_clean = df.loc[valid_mask].reset_index(drop=True)\n",
    "\n",
    "    if drop_classes:\n",
    "        drop_mask = ~grouped_labels.isin(drop_classes)\n",
    "        grouped_labels = grouped_labels[drop_mask].reset_index(drop=True)\n",
    "        X = df_clean.drop('Label', axis=1).loc[drop_mask].reset_index(drop=True)\n",
    "    else:\n",
    "        X = df_clean.drop('Label', axis=1).reset_index(drop=True)\n",
    "\n",
    "    final_encoder = LabelEncoder()\n",
    "    y_clean = final_encoder.fit_transform(grouped_labels)\n",
    "\n",
    "    return X, y_clean, final_encoder"
   ]
  },
  {
   "cell_type": "code",
   "execution_count": 12,
   "id": "1d2f7733",
   "metadata": {},
   "outputs": [
    {
     "name": "stdout",
     "output_type": "stream",
     "text": [
      "{'Bot': 1948, 'BruteForce': 9150, 'DoS': 321759, 'Normal': 2095057, 'Recon': 90694, 'Web': 2143}\n"
     ]
    }
   ],
   "source": [
    "X, y, final_encoder = prepare_labels(df, drop_classes=['Rare'])\n",
    "values, counts = np.unique(y, return_counts=True)\n",
    "class_names = final_encoder.inverse_transform(values)\n",
    "\n",
    "distribution = dict(zip(class_names, counts))\n",
    "print(distribution)"
   ]
  },
  {
   "cell_type": "markdown",
   "id": "453f6a0b",
   "metadata": {},
   "source": [
    "**Визуализация классов после кодирования, группировки пременных и удаления малочисленного класса:**"
   ]
  },
  {
   "cell_type": "code",
   "execution_count": 13,
   "id": "0a0e7e2f",
   "metadata": {},
   "outputs": [
    {
     "data": {
      "image/png": "[encoded data removed]",
      "text/plain": [
       "<Figure size 1000x600 with 1 Axes>"
      ]
     },
     "metadata": {},
     "output_type": "display_data"
    }
   ],
   "source": [
    "plt.figure(figsize=(10, 6))\n",
    "sns.barplot(x=class_names, y=counts)\n",
    "\n",
    "for i, count in enumerate(counts):\n",
    "    plt.text(i, count + max(counts)*0.01, str(count), ha='center', va='bottom', fontsize=10)\n",
    "\n",
    "plt.title('Распределение классов после удаления Rare', fontsize=14)\n",
    "plt.xlabel('Класс')\n",
    "plt.ylabel('Количество примеров')\n",
    "plt.xticks(rotation=45)\n",
    "plt.tight_layout()\n",
    "\n",
    "plt.show()"
   ]
  },
  {
   "cell_type": "markdown",
   "id": "3aff3c34",
   "metadata": {},
   "source": [
    "**Разделение на выборки:**"
   ]
  },
  {
   "cell_type": "code",
   "execution_count": 14,
   "id": "98d051d3",
   "metadata": {},
   "outputs": [],
   "source": [
    "X_train, X_test, y_train, y_test = train_test_split(X, y, \n",
    "                                                    stratify=y, \n",
    "                                                    test_size=0.2, \n",
    "                                                    random_state=42)"
   ]
  },
  {
   "cell_type": "markdown",
   "id": "ce6c24dd",
   "metadata": {},
   "source": [
    "**Веса классов:**"
   ]
  },
  {
   "cell_type": "code",
   "execution_count": 15,
   "id": "af5003b3",
   "metadata": {},
   "outputs": [],
   "source": [
    "classes = np.unique(y_train)\n",
    "class_weights = compute_class_weight(class_weight='balanced', \n",
    "                                     classes=classes, \n",
    "                                     y=y_train)\n",
    "class_weight_dict = dict(zip(classes, class_weights))\n",
    "weights = np.array([class_weight_dict[label] for label in y_train])"
   ]
  },
  {
   "cell_type": "markdown",
   "id": "b416151c",
   "metadata": {},
   "source": [
    "**Обучение базовой модели на всех признаках:**"
   ]
  },
  {
   "cell_type": "code",
   "execution_count": null,
   "id": "90474e66",
   "metadata": {},
   "outputs": [],
   "source": [
    "model_all = XGBClassifier(n_estimators=300,\n",
    "                          max_depth=6,\n",
    "                          learning_rate=0.1,\n",
    "                          subsample=0.8,\n",
    "                          colsample_bytree=0.8,\n",
    "                          eval_metric='mlogloss',\n",
    "                          n_jobs=-1,\n",
    "                          random_state=42)\n",
    "\n",
    "model_all.fit(X_train, y_train, sample_weight=weights)\n",
    "y_pred_all = model_all.predict(X_test)\n",
    "report_all = classification_report(y_test, y_pred_all, output_dict=True)"
   ]
  },
  {
   "cell_type": "markdown",
   "id": "52174610",
   "metadata": {},
   "source": [
    "**SHAP-анализ:**"
   ]
  },
  {
   "cell_type": "code",
   "execution_count": 66,
   "id": "00e68b47",
   "metadata": {},
   "outputs": [
    {
     "name": "stderr",
     "output_type": "stream",
     "text": [
      "100%|===================| 2994/3000 [02:35<00:00]        "
     ]
    },
    {
     "name": "stdout",
     "output_type": "stream",
     "text": [
      "Топ-20 признаков по SHAP:\n",
      "                    feature  mean_abs_shap\n",
      "0          Destination Port       0.577761\n",
      "66   Init_Win_bytes_forward       0.435211\n",
      "67  Init_Win_bytes_backward       0.354551\n",
      "37            Bwd Packets/s       0.206289\n",
      "69     min_seg_size_forward       0.198479\n",
      "22              Fwd IAT Std       0.169074\n",
      "19             Flow IAT Min       0.142918\n",
      "11    Bwd Packet Length Min       0.136412\n",
      "36            Fwd Packets/s       0.128266\n",
      "24              Fwd IAT Min       0.126714\n",
      "18             Flow IAT Max       0.110424\n",
      "13    Bwd Packet Length Std       0.110012\n",
      "14             Flow Bytes/s       0.105959\n",
      "46           PSH Flag Count       0.101405\n",
      "21             Fwd IAT Mean       0.101179\n",
      "40       Packet Length Mean       0.100409\n",
      "34        Fwd Header Length       0.096736\n",
      "12   Bwd Packet Length Mean       0.086862\n",
      "1             Flow Duration       0.083743\n",
      "16            Flow IAT Mean       0.074599\n"
     ]
    },
    {
     "data": {
      "image/png": "[encoded data removed]",
      "text/plain": [
       "<Figure size 1000x600 with 1 Axes>"
      ]
     },
     "metadata": {},
     "output_type": "display_data"
    }
   ],
   "source": [
    "X_sample, y_sample = resample(X_test, y_test, n_samples=500, stratify=y_test, random_state=42)\n",
    "\n",
    "explainer = shap.Explainer(model_all, X_train)\n",
    "shap_values = explainer(X_sample)\n",
    "mean_abs_shap = np.abs(shap_values.values).mean(axis=(0, 2))\n",
    "\n",
    "top_features_idx = np.argsort(mean_abs_shap)[::-1]\n",
    "\n",
    "feature_importance = pd.DataFrame({'feature': X_sample.columns,\n",
    "                                   'mean_abs_shap': mean_abs_shap\n",
    "                                   }).sort_values(by='mean_abs_shap', ascending=False)\n",
    "\n",
    "top_20_features = feature_importance.head(20)\n",
    "print('Топ-20 признаков по SHAP:')\n",
    "print(top_20_features)\n",
    "\n",
    "plt.figure(figsize=(10, 6))\n",
    "\n",
    "plt.barh(top_20_features['feature'][::-1],\n",
    "         top_20_features['mean_abs_shap'][::-1])\n",
    "plt.xlabel('Среднее абсолютное SHAP-значение')\n",
    "plt.title('Топ-20 признаков по важности')\n",
    "plt.tight_layout()\n",
    "\n",
    "plt.show()"
   ]
  },
  {
   "cell_type": "markdown",
   "id": "0b4a5b04",
   "metadata": {},
   "source": [
    "**Подбор гиперпараметров с помощью Optuna:**"
   ]
  },
  {
   "cell_type": "code",
   "execution_count": null,
   "id": "5136afc3",
   "metadata": {},
   "outputs": [],
   "source": [
    "def objective(trial):\n",
    "    try:\n",
    "        n_features = trial.suggest_int('n_features', 5, 10)\n",
    "        selected_features = feature_importance.head(n_features)['feature'].tolist()\n",
    "\n",
    "        params = {'objective': 'multi:softprob',\n",
    "                  'num_class': len(np.unique(y_train)),\n",
    "                  'n_estimators': trial.suggest_int('n_estimators', 50, 100),\n",
    "                  'max_depth': trial.suggest_int('max_depth', 3, 6),\n",
    "                  'learning_rate': trial.suggest_float('learning_rate', 0.01, 0.3, log=True),\n",
    "                  'subsample': trial.suggest_float('subsample', 0.6, 1.0),\n",
    "                  'colsample_bytree': trial.suggest_float('colsample_bytree', 0.6, 1.0),\n",
    "                  'gamma': trial.suggest_float('gamma', 0, 5),\n",
    "                  'min_child_weight': trial.suggest_int('min_child_weight', 1, 10),\n",
    "                  'tree_method': 'hist',\n",
    "                  'eval_metric': 'mlogloss',\n",
    "                  'random_state': 42,\n",
    "                  'n_jobs': -1}\n",
    "\n",
    "        model = XGBClassifier(**params)\n",
    "\n",
    "        model.fit(X_train[selected_features], \n",
    "                  y_train,\n",
    "                  sample_weight=weights,\n",
    "                  eval_set=[(X_test[selected_features], y_test)],\n",
    "                  verbose=False)\n",
    "\n",
    "        preds = model.predict(X_test[selected_features])\n",
    "        score = f1_score(y_test, preds, average='macro')\n",
    "        return float(score)\n",
    "\n",
    "    except Exception as e:\n",
    "        print(f'Ошибка в trial {trial.number}: {e}')\n",
    "        return -1.0"
   ]
  },
  {
   "cell_type": "code",
   "execution_count": 54,
   "id": "9176179a",
   "metadata": {},
   "outputs": [
    {
     "name": "stderr",
     "output_type": "stream",
     "text": [
      "[I 2025-10-04 21:10:40,776] A new study created in memory with name: no-name-0e6d9cbb-c58f-4f45-b336-307836a37a06\n"
     ]
    },
    {
     "data": {
      "application/vnd.jupyter.widget-view+json": {
       "model_id": "da03ccbf14174dd4837cec7ff60653a5",
       "version_major": 2,
       "version_minor": 0
      },
      "text/plain": [
       "  0%|          | 0/100 [00:00<?, ?it/s]"
      ]
     },
     "metadata": {},
     "output_type": "display_data"
    },
    {
     "name": "stdout",
     "output_type": "stream",
     "text": [
      "[I 2025-10-04 21:11:19,060] Trial 0 finished with value: 0.7902218304584793 and parameters: {'n_features': 7, 'n_estimators': 87, 'max_depth': 5, 'learning_rate': 0.08750517769865651, 'subsample': 0.8381690630051737, 'colsample_bytree': 0.9422674991366875, 'gamma': 3.795802810280113, 'min_child_weight': 5}. Best is trial 0 with value: 0.7902218304584793.\n",
      "[I 2025-10-04 21:12:11,431] Trial 1 finished with value: 0.6773325236851377 and parameters: {'n_features': 7, 'n_estimators': 96, 'max_depth': 6, 'learning_rate': 0.01978515674329483, 'subsample': 0.6894809776060796, 'colsample_bytree': 0.6066928664416072, 'gamma': 2.9767510623541216, 'min_child_weight': 6}. Best is trial 0 with value: 0.7902218304584793.\n",
      "[I 2025-10-04 21:13:01,926] Trial 2 finished with value: 0.7979462134658287 and parameters: {'n_features': 6, 'n_estimators': 76, 'max_depth': 6, 'learning_rate': 0.1540286864985732, 'subsample': 0.9437347579967441, 'colsample_bytree': 0.74174473564709, 'gamma': 3.3309833907703763, 'min_child_weight': 4}. Best is trial 2 with value: 0.7979462134658287.\n",
      "[I 2025-10-04 21:13:49,926] Trial 3 finished with value: 0.6240713456562441 and parameters: {'n_features': 9, 'n_estimators': 86, 'max_depth': 3, 'learning_rate': 0.047345621371326446, 'subsample': 0.7296766388222132, 'colsample_bytree': 0.8501278056406733, 'gamma': 3.5254283508991007, 'min_child_weight': 1}. Best is trial 2 with value: 0.7979462134658287.\n",
      "[I 2025-10-04 21:14:19,401] Trial 4 finished with value: 0.49899864967484486 and parameters: {'n_features': 10, 'n_estimators': 55, 'max_depth': 3, 'learning_rate': 0.013592237662701838, 'subsample': 0.7914791219333212, 'colsample_bytree': 0.6116295124794903, 'gamma': 3.802992345931326, 'min_child_weight': 10}. Best is trial 2 with value: 0.7979462134658287.\n",
      "[I 2025-10-04 21:14:56,386] Trial 5 finished with value: 0.650330360057126 and parameters: {'n_features': 7, 'n_estimators': 61, 'max_depth': 5, 'learning_rate': 0.02702510647520223, 'subsample': 0.8621346790096973, 'colsample_bytree': 0.8155412873033823, 'gamma': 4.828193805862073, 'min_child_weight': 5}. Best is trial 2 with value: 0.7979462134658287.\n",
      "[I 2025-10-04 21:15:28,243] Trial 6 finished with value: 0.8460621415630821 and parameters: {'n_features': 10, 'n_estimators': 52, 'max_depth': 4, 'learning_rate': 0.21405780619635922, 'subsample': 0.7064223754503082, 'colsample_bytree': 0.6185575168399529, 'gamma': 0.322535922582039, 'min_child_weight': 6}. Best is trial 6 with value: 0.8460621415630821.\n",
      "[I 2025-10-04 21:16:00,971] Trial 7 finished with value: 0.6530219158053052 and parameters: {'n_features': 5, 'n_estimators': 58, 'max_depth': 6, 'learning_rate': 0.028072506606900867, 'subsample': 0.7504327427800285, 'colsample_bytree': 0.8701603533573834, 'gamma': 3.863989517429374, 'min_child_weight': 4}. Best is trial 6 with value: 0.8460621415630821.\n",
      "[I 2025-10-04 21:17:10,520] Trial 8 finished with value: 0.8881756859319685 and parameters: {'n_features': 7, 'n_estimators': 100, 'max_depth': 6, 'learning_rate': 0.16042472758924037, 'subsample': 0.7951398751953003, 'colsample_bytree': 0.6726007602734393, 'gamma': 0.7508716013159833, 'min_child_weight': 8}. Best is trial 8 with value: 0.8881756859319685.\n",
      "[I 2025-10-04 21:17:43,120] Trial 9 finished with value: 0.6332147539771588 and parameters: {'n_features': 9, 'n_estimators': 53, 'max_depth': 5, 'learning_rate': 0.020843904083503142, 'subsample': 0.6780490823327422, 'colsample_bytree': 0.9699591882498837, 'gamma': 1.8189264016085716, 'min_child_weight': 5}. Best is trial 8 with value: 0.8881756859319685.\n",
      "[I 2025-10-04 21:18:40,556] Trial 10 finished with value: 0.7310192942455068 and parameters: {'n_features': 5, 'n_estimators': 98, 'max_depth': 4, 'learning_rate': 0.10426795858535749, 'subsample': 0.988534297689297, 'colsample_bytree': 0.717310619725681, 'gamma': 0.0629142722646654, 'min_child_weight': 10}. Best is trial 8 with value: 0.8881756859319685.\n",
      "[I 2025-10-04 21:19:21,988] Trial 11 finished with value: 0.8655163433352252 and parameters: {'n_features': 8, 'n_estimators': 69, 'max_depth': 4, 'learning_rate': 0.2951638841525832, 'subsample': 0.6024642365899927, 'colsample_bytree': 0.6721332663592272, 'gamma': 0.20801625976444887, 'min_child_weight': 8}. Best is trial 8 with value: 0.8881756859319685.\n",
      "[I 2025-10-04 21:20:03,627] Trial 12 finished with value: 0.8537520855026218 and parameters: {'n_features': 8, 'n_estimators': 69, 'max_depth': 4, 'learning_rate': 0.27849314500296574, 'subsample': 0.6038443563206153, 'colsample_bytree': 0.6948937756294551, 'gamma': 1.2188365075655312, 'min_child_weight': 8}. Best is trial 8 with value: 0.8881756859319685.\n",
      "[I 2025-10-04 21:20:46,419] Trial 13 finished with value: 0.7921419685817063 and parameters: {'n_features': 8, 'n_estimators': 72, 'max_depth': 4, 'learning_rate': 0.16335329416160363, 'subsample': 0.6110083098454235, 'colsample_bytree': 0.6899112378642618, 'gamma': 0.8723941520907477, 'min_child_weight': 8}. Best is trial 8 with value: 0.8881756859319685.\n",
      "[I 2025-10-04 21:21:31,741] Trial 14 finished with value: 0.7175423085303052 and parameters: {'n_features': 6, 'n_estimators': 80, 'max_depth': 5, 'learning_rate': 0.07773383385146115, 'subsample': 0.8890568659573215, 'colsample_bytree': 0.7560050523463806, 'gamma': 2.0119839647607636, 'min_child_weight': 8}. Best is trial 8 with value: 0.8881756859319685.\n",
      "[I 2025-10-04 21:22:03,561] Trial 15 finished with value: 0.7911772123343241 and parameters: {'n_features': 8, 'n_estimators': 66, 'max_depth': 3, 'learning_rate': 0.2766308337414422, 'subsample': 0.6538182654409647, 'colsample_bytree': 0.6591226137963719, 'gamma': 0.837029589652339, 'min_child_weight': 9}. Best is trial 8 with value: 0.8881756859319685.\n",
      "[I 2025-10-04 21:23:03,558] Trial 16 finished with value: 0.8835789190028068 and parameters: {'n_features': 9, 'n_estimators': 91, 'max_depth': 6, 'learning_rate': 0.14456845913933788, 'subsample': 0.7791277927950077, 'colsample_bytree': 0.7728151411430307, 'gamma': 1.4277925969724041, 'min_child_weight': 7}. Best is trial 8 with value: 0.8881756859319685.\n",
      "[I 2025-10-04 21:23:59,057] Trial 17 finished with value: 0.8752758652378404 and parameters: {'n_features': 9, 'n_estimators': 91, 'max_depth': 6, 'learning_rate': 0.12992247966832637, 'subsample': 0.7888350808727076, 'colsample_bytree': 0.787266516745875, 'gamma': 1.6083640372760843, 'min_child_weight': 7}. Best is trial 8 with value: 0.8881756859319685.\n",
      "[I 2025-10-04 21:24:56,341] Trial 18 finished with value: 0.7386090331384868 and parameters: {'n_features': 6, 'n_estimators': 99, 'max_depth': 6, 'learning_rate': 0.04663233344761206, 'subsample': 0.7620479628388352, 'colsample_bytree': 0.8802720361678491, 'gamma': 2.1626610726129933, 'min_child_weight': 2}. Best is trial 8 with value: 0.8881756859319685.\n",
      "[I 2025-10-04 21:25:52,212] Trial 19 finished with value: 0.7928430380994801 and parameters: {'n_features': 9, 'n_estimators': 92, 'max_depth': 6, 'learning_rate': 0.06417157629330514, 'subsample': 0.8353565147057869, 'colsample_bytree': 0.7928945248911592, 'gamma': 2.531442456292467, 'min_child_weight': 7}. Best is trial 8 with value: 0.8881756859319685.\n",
      "[I 2025-10-04 21:26:56,174] Trial 20 finished with value: 0.8060626357187942 and parameters: {'n_features': 7, 'n_estimators': 82, 'max_depth': 5, 'learning_rate': 0.11178491462117533, 'subsample': 0.8950804657766593, 'colsample_bytree': 0.7475866233360168, 'gamma': 1.3576013076269875, 'min_child_weight': 9}. Best is trial 8 with value: 0.8881756859319685.\n",
      "[I 2025-10-04 21:27:58,730] Trial 21 finished with value: 0.8848937427307476 and parameters: {'n_features': 9, 'n_estimators': 91, 'max_depth': 6, 'learning_rate': 0.14246514151792164, 'subsample': 0.7964936003408855, 'colsample_bytree': 0.7891196370646555, 'gamma': 1.490247744225667, 'min_child_weight': 7}. Best is trial 8 with value: 0.8881756859319685.\n",
      "[I 2025-10-04 21:28:58,605] Trial 22 finished with value: 0.9533366579754073 and parameters: {'n_features': 10, 'n_estimators': 93, 'max_depth': 6, 'learning_rate': 0.18144316967973406, 'subsample': 0.8118558148202977, 'colsample_bytree': 0.8252815561972249, 'gamma': 0.7699730087584022, 'min_child_weight': 7}. Best is trial 22 with value: 0.9533366579754073.\n",
      "[I 2025-10-04 21:29:55,115] Trial 23 finished with value: 0.9556525717063704 and parameters: {'n_features': 10, 'n_estimators': 95, 'max_depth': 6, 'learning_rate': 0.2065782328492087, 'subsample': 0.8255829213712598, 'colsample_bytree': 0.9127372956122604, 'gamma': 0.7517272190833011, 'min_child_weight': 9}. Best is trial 23 with value: 0.9556525717063704.\n",
      "[I 2025-10-04 21:30:54,909] Trial 24 finished with value: 0.9521518229924464 and parameters: {'n_features': 10, 'n_estimators': 100, 'max_depth': 5, 'learning_rate': 0.21055086958416355, 'subsample': 0.8310413974311086, 'colsample_bytree': 0.905902775715174, 'gamma': 0.7038682267083248, 'min_child_weight': 9}. Best is trial 23 with value: 0.9556525717063704.\n",
      "[I 2025-10-04 21:31:53,143] Trial 25 finished with value: 0.950382752255775 and parameters: {'n_features': 10, 'n_estimators': 95, 'max_depth': 5, 'learning_rate': 0.2101091326319099, 'subsample': 0.8299590185821009, 'colsample_bytree': 0.9257299038712821, 'gamma': 0.5543653032496606, 'min_child_weight': 9}. Best is trial 23 with value: 0.9556525717063704.\n",
      "[I 2025-10-04 21:32:41,082] Trial 26 finished with value: 0.943971772666201 and parameters: {'n_features': 10, 'n_estimators': 85, 'max_depth': 5, 'learning_rate': 0.2096270194142935, 'subsample': 0.9136129327926054, 'colsample_bytree': 0.9981852719324809, 'gamma': 1.1491488796587572, 'min_child_weight': 10}. Best is trial 23 with value: 0.9556525717063704.\n",
      "[I 2025-10-04 21:33:35,445] Trial 27 finished with value: 0.9478836675500205 and parameters: {'n_features': 10, 'n_estimators': 95, 'max_depth': 5, 'learning_rate': 0.20463322276632104, 'subsample': 0.8580746170688538, 'colsample_bytree': 0.9013901119304517, 'gamma': 0.5149982786403937, 'min_child_weight': 9}. Best is trial 23 with value: 0.9556525717063704.\n",
      "[I 2025-10-04 21:34:25,858] Trial 28 finished with value: 0.9031775420915157 and parameters: {'n_features': 10, 'n_estimators': 78, 'max_depth': 6, 'learning_rate': 0.10129794719569997, 'subsample': 0.9521946557117917, 'colsample_bytree': 0.825027015432862, 'gamma': 0.021401479189592898, 'min_child_weight': 10}. Best is trial 23 with value: 0.9556525717063704.\n",
      "[I 2025-10-04 21:35:15,026] Trial 29 finished with value: 0.8149247683485448 and parameters: {'n_features': 10, 'n_estimators': 89, 'max_depth': 5, 'learning_rate': 0.06802206624137266, 'subsample': 0.8191786051579975, 'colsample_bytree': 0.9428008091609885, 'gamma': 1.0538432624864225, 'min_child_weight': 6}. Best is trial 23 with value: 0.9556525717063704.\n",
      "[I 2025-10-04 21:36:02,234] Trial 30 finished with value: 0.8279026793433015 and parameters: {'n_features': 9, 'n_estimators': 83, 'max_depth': 6, 'learning_rate': 0.08558360153373362, 'subsample': 0.8540011060165691, 'colsample_bytree': 0.9109327910023584, 'gamma': 2.612329525879919, 'min_child_weight': 9}. Best is trial 23 with value: 0.9556525717063704.\n",
      "[I 2025-10-04 21:36:51,766] Trial 31 finished with value: 0.9508145108330002 and parameters: {'n_features': 10, 'n_estimators': 95, 'max_depth': 5, 'learning_rate': 0.21185256016949083, 'subsample': 0.822517454044161, 'colsample_bytree': 0.9372510707069268, 'gamma': 0.49151118528878923, 'min_child_weight': 9}. Best is trial 23 with value: 0.9556525717063704.\n",
      "[I 2025-10-04 21:37:41,320] Trial 32 finished with value: 0.9534747621388554 and parameters: {'n_features': 10, 'n_estimators': 95, 'max_depth': 5, 'learning_rate': 0.23203533864708503, 'subsample': 0.8181184825349406, 'colsample_bytree': 0.9648424585000558, 'gamma': 0.5439700243142986, 'min_child_weight': 9}. Best is trial 23 with value: 0.9556525717063704.\n",
      "[I 2025-10-04 21:38:31,674] Trial 33 finished with value: 0.9442716711089642 and parameters: {'n_features': 10, 'n_estimators': 97, 'max_depth': 5, 'learning_rate': 0.1807236028788443, 'subsample': 0.884035048213022, 'colsample_bytree': 0.9744481099445712, 'gamma': 0.6253056092130075, 'min_child_weight': 10}. Best is trial 23 with value: 0.9556525717063704.\n",
      "[I 2025-10-04 21:39:19,223] Trial 34 finished with value: 0.9561388439859216 and parameters: {'n_features': 10, 'n_estimators': 87, 'max_depth': 6, 'learning_rate': 0.24883233013233663, 'subsample': 0.7470226590377531, 'colsample_bytree': 0.8505358162916618, 'gamma': 0.8739978430283379, 'min_child_weight': 7}. Best is trial 34 with value: 0.9561388439859216.\n",
      "[I 2025-10-04 21:40:08,424] Trial 35 finished with value: 0.9235246934830074 and parameters: {'n_features': 9, 'n_estimators': 88, 'max_depth': 6, 'learning_rate': 0.24685562776198097, 'subsample': 0.7328915779079264, 'colsample_bytree': 0.8701076599400757, 'gamma': 1.0835228532851453, 'min_child_weight': 4}. Best is trial 34 with value: 0.9561388439859216.\n",
      "[I 2025-10-04 21:40:54,384] Trial 36 finished with value: 0.9309076747274858 and parameters: {'n_features': 10, 'n_estimators': 85, 'max_depth': 6, 'learning_rate': 0.11965698847366278, 'subsample': 0.7625068041565931, 'colsample_bytree': 0.8432599827933147, 'gamma': 0.35875538716585675, 'min_child_weight': 7}. Best is trial 34 with value: 0.9561388439859216.\n",
      "[I 2025-10-04 21:41:41,410] Trial 37 finished with value: 0.9162713049472432 and parameters: {'n_features': 9, 'n_estimators': 94, 'max_depth': 6, 'learning_rate': 0.2454873687847335, 'subsample': 0.7455577461589006, 'colsample_bytree': 0.8306020669441019, 'gamma': 1.791327841141903, 'min_child_weight': 6}. Best is trial 34 with value: 0.9561388439859216.\n",
      "[I 2025-10-04 21:42:26,380] Trial 38 finished with value: 0.9470157474836784 and parameters: {'n_features': 10, 'n_estimators': 88, 'max_depth': 6, 'learning_rate': 0.17195758625983462, 'subsample': 0.8135452031398811, 'colsample_bytree': 0.9599290304736122, 'gamma': 3.138636358910621, 'min_child_weight': 6}. Best is trial 34 with value: 0.9561388439859216.\n",
      "[I 2025-10-04 21:43:05,699] Trial 39 finished with value: 0.6668234490404464 and parameters: {'n_features': 10, 'n_estimators': 75, 'max_depth': 6, 'learning_rate': 0.010610860555218671, 'subsample': 0.714294416300683, 'colsample_bytree': 0.8883443253062999, 'gamma': 4.205973484170946, 'min_child_weight': 3}. Best is trial 34 with value: 0.9561388439859216.\n",
      "[I 2025-10-04 21:43:54,567] Trial 40 finished with value: 0.9252630742069715 and parameters: {'n_features': 9, 'n_estimators': 93, 'max_depth': 6, 'learning_rate': 0.24880186715616706, 'subsample': 0.7746420344240159, 'colsample_bytree': 0.8647025401023951, 'gamma': 0.9137016093647317, 'min_child_weight': 5}. Best is trial 34 with value: 0.9561388439859216.\n",
      "[I 2025-10-04 21:44:46,720] Trial 41 finished with value: 0.9451688126283001 and parameters: {'n_features': 10, 'n_estimators': 99, 'max_depth': 5, 'learning_rate': 0.1823737951915271, 'subsample': 0.8475894196561907, 'colsample_bytree': 0.9108997425858237, 'gamma': 0.31200909810344235, 'min_child_weight': 8}. Best is trial 34 with value: 0.9561388439859216.\n",
      "[I 2025-10-04 21:45:38,065] Trial 42 finished with value: 0.9573416230286441 and parameters: {'n_features': 10, 'n_estimators': 100, 'max_depth': 5, 'learning_rate': 0.29860072488993245, 'subsample': 0.8073714412907741, 'colsample_bytree': 0.8503640522815853, 'gamma': 0.7871019661809214, 'min_child_weight': 8}. Best is trial 42 with value: 0.9573416230286441.\n",
      "[I 2025-10-04 21:46:26,757] Trial 43 finished with value: 0.9499168874918932 and parameters: {'n_features': 10, 'n_estimators': 97, 'max_depth': 4, 'learning_rate': 0.29941729779825516, 'subsample': 0.8092617362819327, 'colsample_bytree': 0.847968981158032, 'gamma': 0.9606007395632717, 'min_child_weight': 7}. Best is trial 42 with value: 0.9573416230286441.\n",
      "[I 2025-10-04 21:47:19,143] Trial 44 finished with value: 0.9547977201976133 and parameters: {'n_features': 10, 'n_estimators': 97, 'max_depth': 5, 'learning_rate': 0.2566929882944221, 'subsample': 0.8659156017142936, 'colsample_bytree': 0.8156870106223313, 'gamma': 0.18973394763686846, 'min_child_weight': 8}. Best is trial 42 with value: 0.9573416230286441.\n",
      "[I 2025-10-04 21:48:10,609] Trial 45 finished with value: 0.6965648776653793 and parameters: {'n_features': 9, 'n_estimators': 97, 'max_depth': 5, 'learning_rate': 0.037256882082125214, 'subsample': 0.8724864183841478, 'colsample_bytree': 0.8073604399505131, 'gamma': 0.18930029804768234, 'min_child_weight': 8}. Best is trial 42 with value: 0.9573416230286441.\n",
      "[I 2025-10-04 21:49:00,333] Trial 46 finished with value: 0.9352187936284663 and parameters: {'n_features': 10, 'n_estimators': 100, 'max_depth': 4, 'learning_rate': 0.23505947307623473, 'subsample': 0.9208208646506271, 'colsample_bytree': 0.8590759094987704, 'gamma': 0.29323540711614593, 'min_child_weight': 8}. Best is trial 42 with value: 0.9573416230286441.\n",
      "[I 2025-10-04 21:49:49,221] Trial 47 finished with value: 0.9163094660868151 and parameters: {'n_features': 9, 'n_estimators': 90, 'max_depth': 5, 'learning_rate': 0.2619313978555705, 'subsample': 0.6876365125580368, 'colsample_bytree': 0.9967913916233018, 'gamma': 0.02745450554070278, 'min_child_weight': 8}. Best is trial 42 with value: 0.9573416230286441.\n",
      "[I 2025-10-04 21:50:35,836] Trial 48 finished with value: 0.9080753548547204 and parameters: {'n_features': 8, 'n_estimators': 96, 'max_depth': 5, 'learning_rate': 0.29670722507670233, 'subsample': 0.8737583529303695, 'colsample_bytree': 0.9524625891435805, 'gamma': 1.25835395038657, 'min_child_weight': 10}. Best is trial 42 with value: 0.9573416230286441.\n",
      "[I 2025-10-04 21:51:19,408] Trial 49 finished with value: 0.8770696319111543 and parameters: {'n_features': 10, 'n_estimators': 86, 'max_depth': 4, 'learning_rate': 0.15231004981867466, 'subsample': 0.7239711403152093, 'colsample_bytree': 0.8833012458780192, 'gamma': 0.4747740255632259, 'min_child_weight': 9}. Best is trial 42 with value: 0.9573416230286441.\n",
      "[I 2025-10-04 21:52:04,236] Trial 50 finished with value: 0.7861854130386613 and parameters: {'n_features': 5, 'n_estimators': 93, 'max_depth': 5, 'learning_rate': 0.1326186587905483, 'subsample': 0.6583523064758987, 'colsample_bytree': 0.9317902396806236, 'gamma': 4.6865760836296335, 'min_child_weight': 8}. Best is trial 42 with value: 0.9573416230286441.\n",
      "[I 2025-10-04 21:52:54,160] Trial 51 finished with value: 0.9506390578040542 and parameters: {'n_features': 10, 'n_estimators': 93, 'max_depth': 6, 'learning_rate': 0.18015317856311808, 'subsample': 0.8036574303745474, 'colsample_bytree': 0.825104718578041, 'gamma': 0.7794946775679782, 'min_child_weight': 7}. Best is trial 42 with value: 0.9573416230286441.\n",
      "[I 2025-10-04 21:53:39,867] Trial 52 finished with value: 0.8837490311221349 and parameters: {'n_features': 10, 'n_estimators': 98, 'max_depth': 3, 'learning_rate': 0.23516060355705595, 'subsample': 0.843320898574325, 'colsample_bytree': 0.7697060639844691, 'gamma': 0.7450108229709925, 'min_child_weight': 6}. Best is trial 42 with value: 0.9573416230286441.\n",
      "[I 2025-10-04 21:54:28,528] Trial 53 finished with value: 0.9519044790875193 and parameters: {'n_features': 10, 'n_estimators': 95, 'max_depth': 6, 'learning_rate': 0.1919769764586759, 'subsample': 0.7805954063179226, 'colsample_bytree': 0.8047110723329042, 'gamma': 1.7061177005857744, 'min_child_weight': 8}. Best is trial 42 with value: 0.9573416230286441.\n",
      "[I 2025-10-04 21:55:16,432] Trial 54 finished with value: 0.930372903147966 and parameters: {'n_features': 10, 'n_estimators': 90, 'max_depth': 5, 'learning_rate': 0.15914206550498455, 'subsample': 0.7609030612841406, 'colsample_bytree': 0.8351159764621338, 'gamma': 2.3088672476213032, 'min_child_weight': 7}. Best is trial 42 with value: 0.9573416230286441.\n",
      "[I 2025-10-04 21:56:05,729] Trial 55 finished with value: 0.9225040415722222 and parameters: {'n_features': 9, 'n_estimators': 98, 'max_depth': 6, 'learning_rate': 0.2685898214609377, 'subsample': 0.7967388650243791, 'colsample_bytree': 0.894819464675098, 'gamma': 0.9171087955210773, 'min_child_weight': 9}. Best is trial 42 with value: 0.9573416230286441.\n",
      "[I 2025-10-04 21:56:53,973] Trial 56 finished with value: 0.9533738032106136 and parameters: {'n_features': 10, 'n_estimators': 100, 'max_depth': 6, 'learning_rate': 0.2271138091081293, 'subsample': 0.9020728503095311, 'colsample_bytree': 0.8538015621906258, 'gamma': 1.4811420889339533, 'min_child_weight': 7}. Best is trial 42 with value: 0.9573416230286441.\n",
      "[I 2025-10-04 21:57:43,238] Trial 57 finished with value: 0.6630100537354735 and parameters: {'n_features': 9, 'n_estimators': 100, 'max_depth': 5, 'learning_rate': 0.019448101865877938, 'subsample': 0.9351780450380917, 'colsample_bytree': 0.8553027567526222, 'gamma': 1.952777537634809, 'min_child_weight': 8}. Best is trial 42 with value: 0.9573416230286441.\n",
      "[I 2025-10-04 21:58:15,511] Trial 58 finished with value: 0.9458452920960058 and parameters: {'n_features': 10, 'n_estimators': 60, 'max_depth': 6, 'learning_rate': 0.23029749451564158, 'subsample': 0.9667594932783997, 'colsample_bytree': 0.7278413898928088, 'gamma': 1.3027249099031553, 'min_child_weight': 1}. Best is trial 42 with value: 0.9573416230286441.\n",
      "[I 2025-10-04 21:58:40,473] Trial 59 finished with value: 0.7959400369899002 and parameters: {'n_features': 6, 'n_estimators': 50, 'max_depth': 5, 'learning_rate': 0.2686475911369254, 'subsample': 0.9042829589018783, 'colsample_bytree': 0.9781360162438011, 'gamma': 1.5475504510707094, 'min_child_weight': 9}. Best is trial 42 with value: 0.9573416230286441.\n",
      "[I 2025-10-04 21:59:31,244] Trial 60 finished with value: 0.9172763649796293 and parameters: {'n_features': 8, 'n_estimators': 96, 'max_depth': 6, 'learning_rate': 0.2226382488349299, 'subsample': 0.8686576279408438, 'colsample_bytree': 0.9231067181297526, 'gamma': 0.2205358856481574, 'min_child_weight': 6}. Best is trial 42 with value: 0.9573416230286441.\n",
      "[I 2025-10-04 22:00:21,593] Trial 61 finished with value: 0.9543249244751787 and parameters: {'n_features': 10, 'n_estimators': 93, 'max_depth': 6, 'learning_rate': 0.1962876145988153, 'subsample': 0.8333466664772159, 'colsample_bytree': 0.8396796566604919, 'gamma': 0.6958322772429444, 'min_child_weight': 7}. Best is trial 42 with value: 0.9573416230286441.\n",
      "[I 2025-10-04 22:01:11,467] Trial 62 finished with value: 0.9579771594374363 and parameters: {'n_features': 10, 'n_estimators': 98, 'max_depth': 6, 'learning_rate': 0.2962007533211761, 'subsample': 0.837075162661714, 'colsample_bytree': 0.8139640825876355, 'gamma': 0.6217576748704963, 'min_child_weight': 7}. Best is trial 62 with value: 0.9579771594374363.\n",
      "[I 2025-10-04 22:01:59,380] Trial 63 finished with value: 0.9576400397727038 and parameters: {'n_features': 10, 'n_estimators': 92, 'max_depth': 6, 'learning_rate': 0.29182677444093874, 'subsample': 0.8354129257431264, 'colsample_bytree': 0.8153955791190677, 'gamma': 0.5953309403007909, 'min_child_weight': 8}. Best is trial 62 with value: 0.9579771594374363.\n",
      "[I 2025-10-04 22:02:49,103] Trial 64 finished with value: 0.9582985874649848 and parameters: {'n_features': 10, 'n_estimators': 92, 'max_depth': 6, 'learning_rate': 0.2850024597846292, 'subsample': 0.8389209895434717, 'colsample_bytree': 0.7781238455233643, 'gamma': 0.4318423939721233, 'min_child_weight': 8}. Best is trial 64 with value: 0.9582985874649848.\n",
      "[I 2025-10-04 22:03:38,035] Trial 65 finished with value: 0.959019673887901 and parameters: {'n_features': 10, 'n_estimators': 91, 'max_depth': 6, 'learning_rate': 0.2996293802763068, 'subsample': 0.8528791101698106, 'colsample_bytree': 0.7757362471442568, 'gamma': 0.4367538935232629, 'min_child_weight': 8}. Best is trial 65 with value: 0.959019673887901.\n",
      "[I 2025-10-04 22:04:23,292] Trial 66 finished with value: 0.9149145935153996 and parameters: {'n_features': 7, 'n_estimators': 91, 'max_depth': 6, 'learning_rate': 0.28799739272937624, 'subsample': 0.8466354918261693, 'colsample_bytree': 0.7751000676884969, 'gamma': 1.0556320752047472, 'min_child_weight': 8}. Best is trial 65 with value: 0.959019673887901.\n",
      "[I 2025-10-04 22:05:07,402] Trial 67 finished with value: 0.9232911842172439 and parameters: {'n_features': 9, 'n_estimators': 82, 'max_depth': 6, 'learning_rate': 0.2990639354129205, 'subsample': 0.8822522627287113, 'colsample_bytree': 0.7572814452677143, 'gamma': 0.39538082330520063, 'min_child_weight': 8}. Best is trial 65 with value: 0.959019673887901.\n",
      "[I 2025-10-04 22:05:55,001] Trial 68 finished with value: 0.9577269214751588 and parameters: {'n_features': 10, 'n_estimators': 88, 'max_depth': 6, 'learning_rate': 0.26417653285358034, 'subsample': 0.8282920702398529, 'colsample_bytree': 0.7828013836912295, 'gamma': 0.5299925630189631, 'min_child_weight': 8}. Best is trial 65 with value: 0.959019673887901.\n",
      "[I 2025-10-04 22:06:42,747] Trial 69 finished with value: 0.9574086681667553 and parameters: {'n_features': 10, 'n_estimators': 87, 'max_depth': 6, 'learning_rate': 0.27360925447737494, 'subsample': 0.7866436136553536, 'colsample_bytree': 0.7307342301137174, 'gamma': 0.5411744393853594, 'min_child_weight': 7}. Best is trial 65 with value: 0.959019673887901.\n",
      "[I 2025-10-04 22:07:30,750] Trial 70 finished with value: 0.9572032451840699 and parameters: {'n_features': 10, 'n_estimators': 89, 'max_depth': 6, 'learning_rate': 0.2715500101511938, 'subsample': 0.7833854304319314, 'colsample_bytree': 0.7291739713101572, 'gamma': 0.5985316117892878, 'min_child_weight': 8}. Best is trial 65 with value: 0.959019673887901.\n",
      "[I 2025-10-04 22:08:16,175] Trial 71 finished with value: 0.9576317730760521 and parameters: {'n_features': 10, 'n_estimators': 84, 'max_depth': 6, 'learning_rate': 0.26956276176781413, 'subsample': 0.7887508813182905, 'colsample_bytree': 0.7279272938987732, 'gamma': 0.6057103322017926, 'min_child_weight': 8}. Best is trial 65 with value: 0.959019673887901.\n",
      "[I 2025-10-04 22:09:02,129] Trial 72 finished with value: 0.9582041560412903 and parameters: {'n_features': 10, 'n_estimators': 84, 'max_depth': 6, 'learning_rate': 0.29738459407518475, 'subsample': 0.7989379293581587, 'colsample_bytree': 0.7069421896500189, 'gamma': 0.41354680405032684, 'min_child_weight': 7}. Best is trial 65 with value: 0.959019673887901.\n",
      "[I 2025-10-04 22:09:48,717] Trial 73 finished with value: 0.9575035309727102 and parameters: {'n_features': 10, 'n_estimators': 84, 'max_depth': 6, 'learning_rate': 0.26604321709083995, 'subsample': 0.7708499812851783, 'colsample_bytree': 0.705046488629043, 'gamma': 0.3839101375507223, 'min_child_weight': 7}. Best is trial 65 with value: 0.959019673887901.\n",
      "[I 2025-10-04 22:10:35,983] Trial 74 finished with value: 0.9018489057955383 and parameters: {'n_features': 9, 'n_estimators': 84, 'max_depth': 6, 'learning_rate': 0.19924540519090103, 'subsample': 0.8384995685810329, 'colsample_bytree': 0.7047900490458885, 'gamma': 0.1380894928635561, 'min_child_weight': 7}. Best is trial 65 with value: 0.959019673887901.\n",
      "[I 2025-10-04 22:11:18,958] Trial 75 finished with value: 0.9563752708867118 and parameters: {'n_features': 10, 'n_estimators': 77, 'max_depth': 6, 'learning_rate': 0.2584306702331029, 'subsample': 0.8550951857870199, 'colsample_bytree': 0.6662408776434063, 'gamma': 0.4048718604519053, 'min_child_weight': 6}. Best is trial 65 with value: 0.959019673887901.\n",
      "[I 2025-10-04 22:12:04,849] Trial 76 finished with value: 0.9538282614734754 and parameters: {'n_features': 10, 'n_estimators': 80, 'max_depth': 6, 'learning_rate': 0.21213735811354403, 'subsample': 0.7705910388256891, 'colsample_bytree': 0.6900897049429341, 'gamma': 0.015828403741301567, 'min_child_weight': 7}. Best is trial 65 with value: 0.959019673887901.\n",
      "[I 2025-10-04 22:12:49,064] Trial 77 finished with value: 0.8094747516994709 and parameters: {'n_features': 10, 'n_estimators': 81, 'max_depth': 6, 'learning_rate': 0.05029712715387252, 'subsample': 0.7953557155809128, 'colsample_bytree': 0.7090406218200304, 'gamma': 0.35801229829882236, 'min_child_weight': 8}. Best is trial 65 with value: 0.959019673887901.\n",
      "[I 2025-10-04 22:13:29,162] Trial 78 finished with value: 0.9565921065053967 and parameters: {'n_features': 10, 'n_estimators': 72, 'max_depth': 6, 'learning_rate': 0.2742077499352258, 'subsample': 0.8254951739978262, 'colsample_bytree': 0.781124648765674, 'gamma': 0.6010136226187146, 'min_child_weight': 5}. Best is trial 65 with value: 0.959019673887901.\n",
      "[I 2025-10-04 22:14:13,523] Trial 79 finished with value: 0.8845586583340496 and parameters: {'n_features': 9, 'n_estimators': 85, 'max_depth': 6, 'learning_rate': 0.17028022455521175, 'subsample': 0.8198317690259105, 'colsample_bytree': 0.7575811697237115, 'gamma': 3.480628945546857, 'min_child_weight': 9}. Best is trial 65 with value: 0.959019673887901.\n",
      "[I 2025-10-04 22:14:54,594] Trial 80 finished with value: 0.9478817753810342 and parameters: {'n_features': 10, 'n_estimators': 83, 'max_depth': 6, 'learning_rate': 0.24154440275967365, 'subsample': 0.8580639249390014, 'colsample_bytree': 0.6483393371187203, 'gamma': 2.842514402634574, 'min_child_weight': 7}. Best is trial 65 with value: 0.959019673887901.\n",
      "[I 2025-10-04 22:15:42,404] Trial 81 finished with value: 0.9573335758059861 and parameters: {'n_features': 10, 'n_estimators': 87, 'max_depth': 6, 'learning_rate': 0.2637753090987065, 'subsample': 0.790113066977072, 'colsample_bytree': 0.725819756936311, 'gamma': 0.4809528560735469, 'min_child_weight': 7}. Best is trial 65 with value: 0.959019673887901.\n",
      "[I 2025-10-04 22:16:31,650] Trial 82 finished with value: 0.9595076564673158 and parameters: {'n_features': 10, 'n_estimators': 88, 'max_depth': 6, 'learning_rate': 0.28413741379084634, 'subsample': 0.804298187969783, 'colsample_bytree': 0.7428702191801742, 'gamma': 0.2610801888858825, 'min_child_weight': 6}. Best is trial 82 with value: 0.9595076564673158.\n",
      "[I 2025-10-04 22:17:21,287] Trial 83 finished with value: 0.9563602878819744 and parameters: {'n_features': 10, 'n_estimators': 89, 'max_depth': 6, 'learning_rate': 0.22556628125507364, 'subsample': 0.8076071950655143, 'colsample_bytree': 0.747331428524952, 'gamma': 0.2960409176303779, 'min_child_weight': 6}. Best is trial 82 with value: 0.9595076564673158.\n",
      "[I 2025-10-04 22:18:10,002] Trial 84 finished with value: 0.9585413325802933 and parameters: {'n_features': 10, 'n_estimators': 86, 'max_depth': 6, 'learning_rate': 0.29870000321087103, 'subsample': 0.7683246289333825, 'colsample_bytree': 0.7949281989735252, 'gamma': 0.11245058643780331, 'min_child_weight': 8}. Best is trial 82 with value: 0.9595076564673158.\n",
      "[I 2025-10-04 22:19:03,231] Trial 85 finished with value: 0.9584961303202976 and parameters: {'n_features': 10, 'n_estimators': 92, 'max_depth': 6, 'learning_rate': 0.29034061935135846, 'subsample': 0.7555841350000456, 'colsample_bytree': 0.7973643724492231, 'gamma': 0.10169117499642522, 'min_child_weight': 8}. Best is trial 82 with value: 0.9595076564673158.\n",
      "[I 2025-10-04 22:19:55,355] Trial 86 finished with value: 0.9587599154555603 and parameters: {'n_features': 10, 'n_estimators': 92, 'max_depth': 6, 'learning_rate': 0.29565953489001456, 'subsample': 0.7384406500254111, 'colsample_bytree': 0.7950357326104803, 'gamma': 0.166034965646258, 'min_child_weight': 8}. Best is trial 82 with value: 0.9595076564673158.\n",
      "[I 2025-10-04 22:20:46,452] Trial 87 finished with value: 0.9578475545262598 and parameters: {'n_features': 10, 'n_estimators': 91, 'max_depth': 6, 'learning_rate': 0.2433085426114394, 'subsample': 0.7325501038754684, 'colsample_bytree': 0.8004030461470557, 'gamma': 0.14510349957508617, 'min_child_weight': 6}. Best is trial 82 with value: 0.9595076564673158.\n",
      "[I 2025-10-04 22:21:37,522] Trial 88 finished with value: 0.9218624278460705 and parameters: {'n_features': 9, 'n_estimators': 92, 'max_depth': 6, 'learning_rate': 0.21756741245282596, 'subsample': 0.7023705480894443, 'colsample_bytree': 0.796315777633093, 'gamma': 0.13396716005742065, 'min_child_weight': 5}. Best is trial 82 with value: 0.9595076564673158.\n",
      "[I 2025-10-04 22:22:28,484] Trial 89 finished with value: 0.9588572944666595 and parameters: {'n_features': 10, 'n_estimators': 90, 'max_depth': 6, 'learning_rate': 0.2427025971789471, 'subsample': 0.7405064444243189, 'colsample_bytree': 0.7638846454610047, 'gamma': 0.11270033802512168, 'min_child_weight': 6}. Best is trial 82 with value: 0.9595076564673158.\n",
      "[I 2025-10-04 22:23:20,153] Trial 90 finished with value: 0.9588958690366512 and parameters: {'n_features': 10, 'n_estimators': 90, 'max_depth': 6, 'learning_rate': 0.2924777807670168, 'subsample': 0.7474791714898145, 'colsample_bytree': 0.769461441949091, 'gamma': 0.2530371982069317, 'min_child_weight': 6}. Best is trial 82 with value: 0.9595076564673158.\n",
      "[I 2025-10-04 22:24:13,134] Trial 91 finished with value: 0.959104686995647 and parameters: {'n_features': 10, 'n_estimators': 90, 'max_depth': 6, 'learning_rate': 0.29378006367428144, 'subsample': 0.7537567292545682, 'colsample_bytree': 0.7427079424490606, 'gamma': 0.24731084329346625, 'min_child_weight': 6}. Best is trial 82 with value: 0.9595076564673158.\n",
      "[I 2025-10-04 22:25:04,572] Trial 92 finished with value: 0.9596546056931089 and parameters: {'n_features': 10, 'n_estimators': 90, 'max_depth': 6, 'learning_rate': 0.24189968310851612, 'subsample': 0.7407549002451482, 'colsample_bytree': 0.7655697796860741, 'gamma': 0.02496423356778503, 'min_child_weight': 5}. Best is trial 92 with value: 0.9596546056931089.\n",
      "[I 2025-10-04 22:25:55,605] Trial 93 finished with value: 0.9596397593300638 and parameters: {'n_features': 10, 'n_estimators': 90, 'max_depth': 6, 'learning_rate': 0.2476674205804154, 'subsample': 0.7439985083398343, 'colsample_bytree': 0.7681550138541229, 'gamma': 0.059498157184223584, 'min_child_weight': 4}. Best is trial 92 with value: 0.9596546056931089.\n",
      "[I 2025-10-04 22:26:46,253] Trial 94 finished with value: 0.9549194176048719 and parameters: {'n_features': 10, 'n_estimators': 90, 'max_depth': 6, 'learning_rate': 0.1898599809329567, 'subsample': 0.7439458027311444, 'colsample_bytree': 0.7623753820480201, 'gamma': 0.036678248209079466, 'min_child_weight': 4}. Best is trial 92 with value: 0.9596546056931089.\n",
      "[I 2025-10-04 22:27:28,851] Trial 95 finished with value: 0.8850978948588635 and parameters: {'n_features': 10, 'n_estimators': 89, 'max_depth': 3, 'learning_rate': 0.24121111262008213, 'subsample': 0.7232574573578378, 'colsample_bytree': 0.7482384452045197, 'gamma': 0.24553810871237455, 'min_child_weight': 3}. Best is trial 92 with value: 0.9596546056931089.\n",
      "[I 2025-10-04 22:28:16,949] Trial 96 finished with value: 0.9545636255997976 and parameters: {'n_features': 10, 'n_estimators': 86, 'max_depth': 6, 'learning_rate': 0.2033463376499725, 'subsample': 0.7491329268430469, 'colsample_bytree': 0.7692433121737106, 'gamma': 0.1305130976067888, 'min_child_weight': 4}. Best is trial 92 with value: 0.9596546056931089.\n",
      "[I 2025-10-04 22:29:10,745] Trial 97 finished with value: 0.959215412120202 and parameters: {'n_features': 10, 'n_estimators': 94, 'max_depth': 6, 'learning_rate': 0.24918156339473957, 'subsample': 0.7557735217547298, 'colsample_bytree': 0.7908742117083183, 'gamma': 0.2591492408510667, 'min_child_weight': 5}. Best is trial 92 with value: 0.9596546056931089.\n",
      "[I 2025-10-04 22:30:02,675] Trial 98 finished with value: 0.7644621122641837 and parameters: {'n_features': 10, 'n_estimators': 94, 'max_depth': 6, 'learning_rate': 0.03156765757074574, 'subsample': 0.7365959338910627, 'colsample_bytree': 0.7422609245898234, 'gamma': 0.25608302459827437, 'min_child_weight': 5}. Best is trial 92 with value: 0.9596546056931089.\n",
      "[I 2025-10-04 22:30:53,088] Trial 99 finished with value: 0.9266016833079486 and parameters: {'n_features': 9, 'n_estimators': 90, 'max_depth': 6, 'learning_rate': 0.24901171245394355, 'subsample': 0.70839228198958, 'colsample_bytree': 0.7897855265933502, 'gamma': 0.0041346123565619425, 'min_child_weight': 5}. Best is trial 92 with value: 0.9596546056931089.\n",
      "Лучшие параметры: {'n_features': 10, 'n_estimators': 90, 'max_depth': 6, 'learning_rate': 0.24189968310851612, 'subsample': 0.7407549002451482, 'colsample_bytree': 0.7655697796860741, 'gamma': 0.02496423356778503, 'min_child_weight': 5}\n",
      "Лучший macro-F1: 0.9596546056931089\n"
     ]
    }
   ],
   "source": [
    "study = optuna.create_study(direction='maximize') \n",
    "study.optimize(objective, n_trials=100,  show_progress_bar=True) \n",
    "\n",
    "print('Лучшие параметры:', study.best_params) \n",
    "print('Лучший macro-F1:', study.best_value)"
   ]
  },
  {
   "cell_type": "markdown",
   "id": "4480242f",
   "metadata": {},
   "source": [
    "**Важность гиперпараметров:**"
   ]
  },
  {
   "cell_type": "code",
   "execution_count": null,
   "id": "a5acd201",
   "metadata": {},
   "outputs": [
    {
     "data": {
      "application/vnd.plotly.v1+json": {
       "config": {
        "plotlyServerURL": "https://plot.ly"
       },
       "data": [
        {
         "cliponaxis": false,
         "hovertemplate": [
          "colsample_bytree (FloatDistribution): 0.004610602739351668<extra></extra>",
          "gamma (FloatDistribution): 0.007250374949246367<extra></extra>",
          "min_child_weight (IntDistribution): 0.013266214946025309<extra></extra>",
          "max_depth (IntDistribution): 0.016906448051529244<extra></extra>",
          "subsample (FloatDistribution): 0.01896762481881694<extra></extra>",
          "n_estimators (IntDistribution): 0.05525687101378564<extra></extra>",
          "n_features (IntDistribution): 0.08649117322669006<extra></extra>",
          "learning_rate (FloatDistribution): 0.7972506902545548<extra></extra>"
         ],
         "name": "Objective Value",
         "orientation": "h",
         "text": [
          "<0.01",
          "<0.01",
          "0.01",
          "0.02",
          "0.02",
          "0.06",
          "0.09",
          "0.80"
         ],
         "textposition": "outside",
         "type": "bar",
         "x": [
          0.004610602739351668,
          0.007250374949246367,
          0.013266214946025309,
          0.016906448051529244,
          0.01896762481881694,
          0.05525687101378564,
          0.08649117322669006,
          0.7972506902545548
         ],
         "y": [
          "colsample_bytree",
          "gamma",
          "min_child_weight",
          "max_depth",
          "subsample",
          "n_estimators",
          "n_features",
          "learning_rate"
         ]
        }
       ],
       "layout": {
        "template": {
         "data": {
          "bar": [
           {
            "error_x": {
             "color": "#2a3f5f"
            },
            "error_y": {
             "color": "#2a3f5f"
            },
            "marker": {
             "line": {
              "color": "#E5ECF6",
              "width": 0.5
             },
             "pattern": {
              "fillmode": "overlay",
              "size": 10,
              "solidity": 0.2
             }
            },
            "type": "bar"
           }
          ],
          "barpolar": [
           {
            "marker": {
             "line": {
              "color": "#E5ECF6",
              "width": 0.5
             },
             "pattern": {
              "fillmode": "overlay",
              "size": 10,
              "solidity": 0.2
             }
            },
            "type": "barpolar"
           }
          ],
          "carpet": [
           {
            "aaxis": {
             "endlinecolor": "#2a3f5f",
             "gridcolor": "white",
             "linecolor": "white",
             "minorgridcolor": "white",
             "startlinecolor": "#2a3f5f"
            },
            "baxis": {
             "endlinecolor": "#2a3f5f",
             "gridcolor": "white",
             "linecolor": "white",
             "minorgridcolor": "white",
             "startlinecolor": "#2a3f5f"
            },
            "type": "carpet"
           }
          ],
          "choropleth": [
           {
            "colorbar": {
             "outlinewidth": 0,
             "ticks": ""
            },
            "type": "choropleth"
           }
          ],
          "contour": [
           {
            "colorbar": {
             "outlinewidth": 0,
             "ticks": ""
            },
            "colorscale": [
             [
              0,
              "#0d0887"
             ],
             [
              0.1111111111111111,
              "#46039f"
             ],
             [
              0.2222222222222222,
              "#7201a8"
             ],
             [
              0.3333333333333333,
              "#9c179e"
             ],
             [
              0.4444444444444444,
              "#bd3786"
             ],
             [
              0.5555555555555556,
              "#d8576b"
             ],
             [
              0.6666666666666666,
              "#ed7953"
             ],
             [
              0.7777777777777778,
              "#fb9f3a"
             ],
             [
              0.8888888888888888,
              "#fdca26"
             ],
             [
              1,
              "#f0f921"
             ]
            ],
            "type": "contour"
           }
          ],
          "contourcarpet": [
           {
            "colorbar": {
             "outlinewidth": 0,
             "ticks": ""
            },
            "type": "contourcarpet"
           }
          ],
          "heatmap": [
           {
            "colorbar": {
             "outlinewidth": 0,
             "ticks": ""
            },
            "colorscale": [
             [
              0,
              "#0d0887"
             ],
             [
              0.1111111111111111,
              "#46039f"
             ],
             [
              0.2222222222222222,
              "#7201a8"
             ],
             [
              0.3333333333333333,
              "#9c179e"
             ],
             [
              0.4444444444444444,
              "#bd3786"
             ],
             [
              0.5555555555555556,
              "#d8576b"
             ],
             [
              0.6666666666666666,
              "#ed7953"
             ],
             [
              0.7777777777777778,
              "#fb9f3a"
             ],
             [
              0.8888888888888888,
              "#fdca26"
             ],
             [
              1,
              "#f0f921"
             ]
            ],
            "type": "heatmap"
           }
          ],
          "histogram": [
           {
            "marker": {
             "pattern": {
              "fillmode": "overlay",
              "size": 10,
              "solidity": 0.2
             }
            },
            "type": "histogram"
           }
          ],
          "histogram2d": [
           {
            "colorbar": {
             "outlinewidth": 0,
             "ticks": ""
            },
            "colorscale": [
             [
              0,
              "#0d0887"
             ],
             [
              0.1111111111111111,
              "#46039f"
             ],
             [
              0.2222222222222222,
              "#7201a8"
             ],
             [
              0.3333333333333333,
              "#9c179e"
             ],
             [
              0.4444444444444444,
              "#bd3786"
             ],
             [
              0.5555555555555556,
              "#d8576b"
             ],
             [
              0.6666666666666666,
              "#ed7953"
             ],
             [
              0.7777777777777778,
              "#fb9f3a"
             ],
             [
              0.8888888888888888,
              "#fdca26"
             ],
             [
              1,
              "#f0f921"
             ]
            ],
            "type": "histogram2d"
           }
          ],
          "histogram2dcontour": [
           {
            "colorbar": {
             "outlinewidth": 0,
             "ticks": ""
            },
            "colorscale": [
             [
              0,
              "#0d0887"
             ],
             [
              0.1111111111111111,
              "#46039f"
             ],
             [
              0.2222222222222222,
              "#7201a8"
             ],
             [
              0.3333333333333333,
              "#9c179e"
             ],
             [
              0.4444444444444444,
              "#bd3786"
             ],
             [
              0.5555555555555556,
              "#d8576b"
             ],
             [
              0.6666666666666666,
              "#ed7953"
             ],
             [
              0.7777777777777778,
              "#fb9f3a"
             ],
             [
              0.8888888888888888,
              "#fdca26"
             ],
             [
              1,
              "#f0f921"
             ]
            ],
            "type": "histogram2dcontour"
           }
          ],
          "mesh3d": [
           {
            "colorbar": {
             "outlinewidth": 0,
             "ticks": ""
            },
            "type": "mesh3d"
           }
          ],
          "parcoords": [
           {
            "line": {
             "colorbar": {
              "outlinewidth": 0,
              "ticks": ""
             }
            },
            "type": "parcoords"
           }
          ],
          "pie": [
           {
            "automargin": true,
            "type": "pie"
           }
          ],
          "scatter": [
           {
            "fillpattern": {
             "fillmode": "overlay",
             "size": 10,
             "solidity": 0.2
            },
            "type": "scatter"
           }
          ],
          "scatter3d": [
           {
            "line": {
             "colorbar": {
              "outlinewidth": 0,
              "ticks": ""
             }
            },
            "marker": {
             "colorbar": {
              "outlinewidth": 0,
              "ticks": ""
             }
            },
            "type": "scatter3d"
           }
          ],
          "scattercarpet": [
           {
            "marker": {
             "colorbar": {
              "outlinewidth": 0,
              "ticks": ""
             }
            },
            "type": "scattercarpet"
           }
          ],
          "scattergeo": [
           {
            "marker": {
             "colorbar": {
              "outlinewidth": 0,
              "ticks": ""
             }
            },
            "type": "scattergeo"
           }
          ],
          "scattergl": [
           {
            "marker": {
             "colorbar": {
              "outlinewidth": 0,
              "ticks": ""
             }
            },
            "type": "scattergl"
           }
          ],
          "scattermap": [
           {
            "marker": {
             "colorbar": {
              "outlinewidth": 0,
              "ticks": ""
             }
            },
            "type": "scattermap"
           }
          ],
          "scattermapbox": [
           {
            "marker": {
             "colorbar": {
              "outlinewidth": 0,
              "ticks": ""
             }
            },
            "type": "scattermapbox"
           }
          ],
          "scatterpolar": [
           {
            "marker": {
             "colorbar": {
              "outlinewidth": 0,
              "ticks": ""
             }
            },
            "type": "scatterpolar"
           }
          ],
          "scatterpolargl": [
           {
            "marker": {
             "colorbar": {
              "outlinewidth": 0,
              "ticks": ""
             }
            },
            "type": "scatterpolargl"
           }
          ],
          "scatterternary": [
           {
            "marker": {
             "colorbar": {
              "outlinewidth": 0,
              "ticks": ""
             }
            },
            "type": "scatterternary"
           }
          ],
          "surface": [
           {
            "colorbar": {
             "outlinewidth": 0,
             "ticks": ""
            },
            "colorscale": [
             [
              0,
              "#0d0887"
             ],
             [
              0.1111111111111111,
              "#46039f"
             ],
             [
              0.2222222222222222,
              "#7201a8"
             ],
             [
              0.3333333333333333,
              "#9c179e"
             ],
             [
              0.4444444444444444,
              "#bd3786"
             ],
             [
              0.5555555555555556,
              "#d8576b"
             ],
             [
              0.6666666666666666,
              "#ed7953"
             ],
             [
              0.7777777777777778,
              "#fb9f3a"
             ],
             [
              0.8888888888888888,
              "#fdca26"
             ],
             [
              1,
              "#f0f921"
             ]
            ],
            "type": "surface"
           }
          ],
          "table": [
           {
            "cells": {
             "fill": {
              "color": "#EBF0F8"
             },
             "line": {
              "color": "white"
             }
            },
            "header": {
             "fill": {
              "color": "#C8D4E3"
             },
             "line": {
              "color": "white"
             }
            },
            "type": "table"
           }
          ]
         },
         "layout": {
          "annotationdefaults": {
           "arrowcolor": "#2a3f5f",
           "arrowhead": 0,
           "arrowwidth": 1
          },
          "autotypenumbers": "strict",
          "coloraxis": {
           "colorbar": {
            "outlinewidth": 0,
            "ticks": ""
           }
          },
          "colorscale": {
           "diverging": [
            [
             0,
             "#8e0152"
            ],
            [
             0.1,
             "#c51b7d"
            ],
            [
             0.2,
             "#de77ae"
            ],
            [
             0.3,
             "#f1b6da"
            ],
            [
             0.4,
             "#fde0ef"
            ],
            [
             0.5,
             "#f7f7f7"
            ],
            [
             0.6,
             "#e6f5d0"
            ],
            [
             0.7,
             "#b8e186"
            ],
            [
             0.8,
             "#7fbc41"
            ],
            [
             0.9,
             "#4d9221"
            ],
            [
             1,
             "#276419"
            ]
           ],
           "sequential": [
            [
             0,
             "#0d0887"
            ],
            [
             0.1111111111111111,
             "#46039f"
            ],
            [
             0.2222222222222222,
             "#7201a8"
            ],
            [
             0.3333333333333333,
             "#9c179e"
            ],
            [
             0.4444444444444444,
             "#bd3786"
            ],
            [
             0.5555555555555556,
             "#d8576b"
            ],
            [
             0.6666666666666666,
             "#ed7953"
            ],
            [
             0.7777777777777778,
             "#fb9f3a"
            ],
            [
             0.8888888888888888,
             "#fdca26"
            ],
            [
             1,
             "#f0f921"
            ]
           ],
           "sequentialminus": [
            [
             0,
             "#0d0887"
            ],
            [
             0.1111111111111111,
             "#46039f"
            ],
            [
             0.2222222222222222,
             "#7201a8"
            ],
            [
             0.3333333333333333,
             "#9c179e"
            ],
            [
             0.4444444444444444,
             "#bd3786"
            ],
            [
             0.5555555555555556,
             "#d8576b"
            ],
            [
             0.6666666666666666,
             "#ed7953"
            ],
            [
             0.7777777777777778,
             "#fb9f3a"
            ],
            [
             0.8888888888888888,
             "#fdca26"
            ],
            [
             1,
             "#f0f921"
            ]
           ]
          },
          "colorway": [
           "#636efa",
           "#EF553B",
           "#00cc96",
           "#ab63fa",
           "#FFA15A",
           "#19d3f3",
           "#FF6692",
           "#B6E880",
           "#FF97FF",
           "#FECB52"
          ],
          "font": {
           "color": "#2a3f5f"
          },
          "geo": {
           "bgcolor": "white",
           "lakecolor": "white",
           "landcolor": "#E5ECF6",
           "showlakes": true,
           "showland": true,
           "subunitcolor": "white"
          },
          "hoverlabel": {
           "align": "left"
          },
          "hovermode": "closest",
          "mapbox": {
           "style": "light"
          },
          "paper_bgcolor": "white",
          "plot_bgcolor": "#E5ECF6",
          "polar": {
           "angularaxis": {
            "gridcolor": "white",
            "linecolor": "white",
            "ticks": ""
           },
           "bgcolor": "#E5ECF6",
           "radialaxis": {
            "gridcolor": "white",
            "linecolor": "white",
            "ticks": ""
           }
          },
          "scene": {
           "xaxis": {
            "backgroundcolor": "#E5ECF6",
            "gridcolor": "white",
            "gridwidth": 2,
            "linecolor": "white",
            "showbackground": true,
            "ticks": "",
            "zerolinecolor": "white"
           },
           "yaxis": {
            "backgroundcolor": "#E5ECF6",
            "gridcolor": "white",
            "gridwidth": 2,
            "linecolor": "white",
            "showbackground": true,
            "ticks": "",
            "zerolinecolor": "white"
           },
           "zaxis": {
            "backgroundcolor": "#E5ECF6",
            "gridcolor": "white",
            "gridwidth": 2,
            "linecolor": "white",
            "showbackground": true,
            "ticks": "",
            "zerolinecolor": "white"
           }
          },
          "shapedefaults": {
           "line": {
            "color": "#2a3f5f"
           }
          },
          "ternary": {
           "aaxis": {
            "gridcolor": "white",
            "linecolor": "white",
            "ticks": ""
           },
           "baxis": {
            "gridcolor": "white",
            "linecolor": "white",
            "ticks": ""
           },
           "bgcolor": "#E5ECF6",
           "caxis": {
            "gridcolor": "white",
            "linecolor": "white",
            "ticks": ""
           }
          },
          "title": {
           "x": 0.05
          },
          "xaxis": {
           "automargin": true,
           "gridcolor": "white",
           "linecolor": "white",
           "ticks": "",
           "title": {
            "standoff": 15
           },
           "zerolinecolor": "white",
           "zerolinewidth": 2
          },
          "yaxis": {
           "automargin": true,
           "gridcolor": "white",
           "linecolor": "white",
           "ticks": "",
           "title": {
            "standoff": 15
           },
           "zerolinecolor": "white",
           "zerolinewidth": 2
          }
         }
        },
        "title": {
         "text": "Hyperparameter Importances"
        },
        "xaxis": {
         "title": {
          "text": "Hyperparameter Importance"
         }
        },
        "yaxis": {
         "title": {
          "text": "Hyperparameter"
         }
        }
       }
      }
     },
     "metadata": {},
     "output_type": "display_data"
    }
   ],
   "source": [
    "plot_param_importances(study)"
   ]
  },
  {
   "cell_type": "markdown",
   "id": "e2c776a3",
   "metadata": {},
   "source": [
    "**Визуализация изменения F1 в зависимости от числа признаков:**"
   ]
  },
  {
   "cell_type": "code",
   "execution_count": 55,
   "id": "33603686",
   "metadata": {},
   "outputs": [
    {
     "data": {
      "image/png": "[encoded data removed]",
      "text/plain": [
       "<Figure size 800x500 with 1 Axes>"
      ]
     },
     "metadata": {},
     "output_type": "display_data"
    }
   ],
   "source": [
    "trials_df = study.trials_dataframe()\n",
    "\n",
    "n_features = trials_df['params_n_features']\n",
    "scores = trials_df['value']\n",
    "\n",
    "plt.figure(figsize=(8, 5))\n",
    "\n",
    "plt.scatter(n_features, scores, c='blue', alpha=0.7)\n",
    "plt.xlabel('Количество признаков (top-N)')\n",
    "plt.ylabel('Macro-F1')\n",
    "plt.title('Зависимость качества от числа признаков')\n",
    "plt.grid(True)\n",
    "plt.tight_layout()\n",
    "\n",
    "plt.show()\n"
   ]
  },
  {
   "cell_type": "markdown",
   "id": "67bad262",
   "metadata": {},
   "source": [
    "**Визуализация изменения F1 в зависимости от Learning Rate:**"
   ]
  },
  {
   "cell_type": "code",
   "execution_count": 57,
   "id": "f21ea62a",
   "metadata": {},
   "outputs": [
    {
     "data": {
      "image/png": "[encoded data removed]",
      "text/plain": [
       "<Figure size 800x500 with 1 Axes>"
      ]
     },
     "metadata": {},
     "output_type": "display_data"
    }
   ],
   "source": [
    "trials_df = study.trials_dataframe()\n",
    "\n",
    "learning_rates = trials_df['params_learning_rate']\n",
    "scores = trials_df['value']\n",
    "\n",
    "plt.figure(figsize=(8, 5))\n",
    "\n",
    "plt.scatter(learning_rates, scores, c='green', alpha=0.7)\n",
    "plt.xlabel('Learning Rate')\n",
    "plt.ylabel('Macro-F1')\n",
    "plt.title('Зависимость качества от Learning Rate')\n",
    "plt.grid(True)\n",
    "plt.tight_layout()\n",
    "\n",
    "plt.show()"
   ]
  },
  {
   "cell_type": "markdown",
   "id": "ae662cf2",
   "metadata": {},
   "source": [
    "**Обучение модели с лучшими параметрами:**"
   ]
  },
  {
   "cell_type": "code",
   "execution_count": 16,
   "id": "bcd6141f",
   "metadata": {},
   "outputs": [
    {
     "name": "stdout",
     "output_type": "stream",
     "text": [
      "Macro-F1 (best_model): 0.960\n",
      "Классификационный отчёт по классам:\n",
      "0: F1 = 0.803\n",
      "1: F1 = 0.997\n",
      "2: F1 = 0.998\n",
      "3: F1 = 0.999\n",
      "4: F1 = 0.994\n",
      "5: F1 = 0.966\n"
     ]
    }
   ],
   "source": [
    "import numpy as np\n",
    "import pandas as pd\n",
    "from xgboost import XGBClassifier\n",
    "from sklearn.metrics import classification_report\n",
    "\n",
    "best_params = {'n_estimators': 90,\n",
    "               'max_depth': 6,\n",
    "               'learning_rate': 0.24189968310851612,\n",
    "               'subsample': 0.7407549002451482,\n",
    "               'colsample_bytree': 0.7655697796860741,\n",
    "               'gamma': 0.02496423356778503,\n",
    "               'min_child_weight': 5}\n",
    "\n",
    "top_features = ['Destination Port', \n",
    "                'Init_Win_bytes_forward', \n",
    "                'Init_Win_bytes_backward',\n",
    "                'Bwd Packets/s', \n",
    "                'min_seg_size_forward', \n",
    "                'Fwd IAT Std',\n",
    "                'Flow IAT Min', \n",
    "                'Bwd Packet Length Min', \n",
    "                'Fwd Packets/s', \n",
    "                'Fwd IAT Min']\n",
    "\n",
    "X_train_selected = X_train[top_features].copy()\n",
    "X_test_selected = X_test[top_features].copy()\n",
    "\n",
    "best_model = XGBClassifier(**best_params,\n",
    "                           objective='multi:softprob',\n",
    "                           num_class=len(np.unique(y_train)),\n",
    "                           eval_metric='mlogloss',\n",
    "                           random_state=42,\n",
    "                           n_jobs=-1)\n",
    "\n",
    "best_model.fit(X_train_selected, y_train, sample_weight=weights)\n",
    "\n",
    "y_pred_optuna = best_model.predict(X_test_selected)\n",
    "report_optuna = classification_report(y_test, y_pred_optuna, output_dict=True)\n",
    "\n",
    "print(f\"Macro-F1 (best_model): {report_optuna['macro avg']['f1-score']:.3f}\")\n",
    "print(\"Классификационный отчёт по классам:\")\n",
    "for label in report_optuna:\n",
    "    if label not in ['accuracy', 'macro avg', 'weighted avg']:\n",
    "        f1 = report_optuna[label]['f1-score']\n",
    "        print(f\"{label}: F1 = {f1:.3f}\")"
   ]
  },
  {
   "cell_type": "markdown",
   "id": "a0b2e3e1",
   "metadata": {},
   "source": [
    "**F1 для каждого класса (best_model):**"
   ]
  },
  {
   "cell_type": "code",
   "execution_count": 61,
   "id": "7652ad01",
   "metadata": {},
   "outputs": [
    {
     "data": {
      "image/png": "[encoded data removed]",
      "text/plain": [
       "<Figure size 1000x600 with 1 Axes>"
      ]
     },
     "metadata": {},
     "output_type": "display_data"
    }
   ],
   "source": [
    "class_mapping = dict(zip(final_encoder.transform(final_encoder.classes_), final_encoder.classes_))\n",
    "f1_scores = []\n",
    "class_labels = []\n",
    "\n",
    "for label_idx in report_optuna:\n",
    "    if label_idx not in ['accuracy', 'macro avg', 'weighted avg']:\n",
    "        class_name = class_mapping[int(label_idx)]\n",
    "        f1 = report_optuna[label_idx]['f1-score']\n",
    "        f1_scores.append(f1)\n",
    "        class_labels.append(class_name)\n",
    "\n",
    "plt.figure(figsize=(10, 6))\n",
    "\n",
    "bars = plt.bar(class_labels, f1_scores)\n",
    "plt.ylim(0, 1.05)\n",
    "plt.ylabel('F1-оценка')\n",
    "plt.title('F1-оценки по классам (best_model)')\n",
    "plt.grid(axis='y', linestyle='--', alpha=0.5)\n",
    "for bar in bars:\n",
    "    height = bar.get_height()\n",
    "    plt.text(bar.get_x() + bar.get_width()/2, height + 0.02, f'{height:.3f}', ha='center', va='bottom')\n",
    "plt.tight_layout()\n",
    "\n",
    "plt.show()"
   ]
  },
  {
   "cell_type": "markdown",
   "id": "ccb0a10b",
   "metadata": {},
   "source": [
    "**Confusion Matrix (best_model):**"
   ]
  },
  {
   "cell_type": "code",
   "execution_count": 62,
   "id": "77c833b2",
   "metadata": {},
   "outputs": [
    {
     "data": {
      "image/png": "[encoded data removed]",
      "text/plain": [
       "<Figure size 1000x800 with 2 Axes>"
      ]
     },
     "metadata": {},
     "output_type": "display_data"
    }
   ],
   "source": [
    "cm = confusion_matrix(y_test, y_pred_optuna)\n",
    "labels = [class_mapping[i] for i in range(len(class_mapping))]\n",
    "\n",
    "plt.figure(figsize=(10, 8))\n",
    "\n",
    "sns.heatmap(cm, annot=True, fmt='d', cmap='PuBu', xticklabels=labels, yticklabels=labels)\n",
    "plt.xlabel('Предсказанный класс')\n",
    "plt.ylabel('Истинный класс')\n",
    "plt.title('Confusion Matrix (best_model)')\n",
    "plt.tight_layout()\n",
    "\n",
    "plt.show()"
   ]
  },
  {
   "cell_type": "markdown",
   "id": "e3a3c679",
   "metadata": {},
   "source": [
    "**Сравнение F1 базовой и лучшей модели по классам:**"
   ]
  },
  {
   "cell_type": "code",
   "execution_count": 63,
   "id": "0cfb873b",
   "metadata": {},
   "outputs": [
    {
     "data": {
      "image/png": "[encoded data removed]",
      "text/plain": [
       "<Figure size 1000x600 with 1 Axes>"
      ]
     },
     "metadata": {},
     "output_type": "display_data"
    }
   ],
   "source": [
    "classes = [str(c) for c in np.unique(y_train)]\n",
    "f1_all = [report_all[c]['f1-score'] for c in classes]\n",
    "f1_optuna = [report_optuna[c]['f1-score'] for c in classes]\n",
    "\n",
    "x = np.arange(len(classes))\n",
    "width = 0.35\n",
    "\n",
    "plt.style.use('seaborn-v0_8')\n",
    "fig, ax = plt.subplots(figsize=(10, 6))\n",
    "rects1 = ax.bar(x - width/2, f1_all, width, label='Все признаки')\n",
    "rects2 = ax.bar(x + width/2, f1_optuna, width, label='Optuna + SHAP')\n",
    "ax.set_ylabel('F1-метрика')\n",
    "ax.set_xlabel('Классы')\n",
    "ax.set_title('Сравнение F1 по классам')\n",
    "ax.set_xticks(x)\n",
    "ax.set_xticklabels(classes)\n",
    "ax.legend()\n",
    "for rect in rects1 + rects2:\n",
    "    height = rect.get_height()\n",
    "    ax.annotate(f'{height:.2f}',\n",
    "                xy=(rect.get_x() + rect.get_width()/2, height),\n",
    "                xytext=(0, 3),\n",
    "                textcoords='offset points',\n",
    "                ha='center', va='bottom')\n",
    "plt.tight_layout()\n",
    "\n",
    "plt.show()"
   ]
  },
  {
   "cell_type": "markdown",
   "id": "c634b027",
   "metadata": {},
   "source": [
    "**Сохранение лучшей модели:**"
   ]
  },
  {
   "cell_type": "code",
   "execution_count": 64,
   "id": "91ca78c5",
   "metadata": {},
   "outputs": [
    {
     "data": {
      "text/plain": [
       "array(['Destination Port', 'Init_Win_bytes_forward',\n",
       "       'Init_Win_bytes_backward', 'Bwd Packets/s', 'min_seg_size_forward',\n",
       "       'Fwd IAT Std', 'Flow IAT Min', 'Bwd Packet Length Min',\n",
       "       'Fwd Packets/s', 'Fwd IAT Min'], dtype=object)"
      ]
     },
     "execution_count": 64,
     "metadata": {},
     "output_type": "execute_result"
    }
   ],
   "source": [
    "top_features"
   ]
  },
  {
   "cell_type": "code",
   "execution_count": 17,
   "id": "10713cce",
   "metadata": {},
   "outputs": [
    {
     "data": {
      "text/plain": [
       "['xgb_pipeline_bundle.pkl']"
      ]
     },
     "execution_count": 17,
     "metadata": {},
     "output_type": "execute_result"
    }
   ],
   "source": [
    "pipeline_bundle = {'model': best_model,\n",
    "                   'selected_features': top_features,\n",
    "                   'label_encoder': final_encoder,\n",
    "                   'sample_weight': weights}\n",
    "\n",
    "joblib.dump(pipeline_bundle, 'xgb_pipeline_bundle.pkl')"
   ]
  }
 ],
 "metadata": {
  "kernelspec": {
   "display_name": "ml_env",
   "language": "python",
   "name": "python3"
  },
  "language_info": {
   "codemirror_mode": {
    "name": "ipython",
    "version": 3
   },
   "file_extension": ".py",
   "mimetype": "text/x-python",
   "name": "python",
   "nbconvert_exporter": "python",
   "pygments_lexer": "ipython3",
   "version": "3.10.11"
  }
 },
 "nbformat": 4,
 "nbformat_minor": 5
}
